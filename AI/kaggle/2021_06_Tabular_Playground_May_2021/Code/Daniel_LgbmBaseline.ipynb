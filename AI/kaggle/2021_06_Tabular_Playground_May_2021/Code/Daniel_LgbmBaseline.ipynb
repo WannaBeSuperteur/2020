{
 "cells": [
  {
   "cell_type": "code",
   "execution_count": 1,
   "id": "after-bhutan",
   "metadata": {
    "_cell_guid": "b1076dfc-b9ad-4769-8c92-a6c4dae69d19",
    "_uuid": "8f2839f25d086af736a60e9eeb907d3b93b6e0e5",
    "execution": {
     "iopub.execute_input": "2021-07-01T07:36:05.423766Z",
     "iopub.status.busy": "2021-07-01T07:36:05.422869Z",
     "iopub.status.idle": "2021-07-01T07:36:05.428532Z",
     "shell.execute_reply": "2021-07-01T07:36:05.427885Z",
     "shell.execute_reply.started": "2021-07-01T07:33:16.098689Z"
    },
    "papermill": {
     "duration": 0.016347,
     "end_time": "2021-07-01T07:36:05.428692",
     "exception": false,
     "start_time": "2021-07-01T07:36:05.412345",
     "status": "completed"
    },
    "tags": []
   },
   "outputs": [
    {
     "name": "stdout",
     "output_type": "stream",
     "text": [
      "/kaggle/input/tabular-playground-series-may-2021/sample_submission.csv\n",
      "/kaggle/input/tabular-playground-series-may-2021/train.csv\n",
      "/kaggle/input/tabular-playground-series-may-2021/test.csv\n"
     ]
    }
   ],
   "source": [
    "# This Python 3 environment comes with many helpful analytics libraries installed\n",
    "# It is defined by the kaggle/python Docker image: https://github.com/kaggle/docker-python\n",
    "# For example, here's several helpful packages to load\n",
    "\n",
    "import numpy as np # linear algebra\n",
    "import pandas as pd # data processing, CSV file I/O (e.g. pd.read_csv)\n",
    "\n",
    "# Input data files are available in the read-only \"../input/\" directory\n",
    "# For example, running this (by clicking run or pressing Shift+Enter) will list all files under the input directory\n",
    "\n",
    "import os\n",
    "for dirname, _, filenames in os.walk('/kaggle/input'):\n",
    "    for filename in filenames:\n",
    "        print(os.path.join(dirname, filename))\n",
    "\n",
    "# You can write up to 20GB to the current directory (/kaggle/working/) that gets preserved as output when you create a version using \"Save & Run All\" \n",
    "# You can also write temporary files to /kaggle/temp/, but they won't be saved outside of the current session"
   ]
  },
  {
   "cell_type": "code",
   "execution_count": 2,
   "id": "fitting-stylus",
   "metadata": {
    "execution": {
     "iopub.execute_input": "2021-07-01T07:36:05.444759Z",
     "iopub.status.busy": "2021-07-01T07:36:05.444117Z",
     "iopub.status.idle": "2021-07-01T07:36:11.526935Z",
     "shell.execute_reply": "2021-07-01T07:36:11.526264Z",
     "shell.execute_reply.started": "2021-07-01T07:34:11.092767Z"
    },
    "papermill": {
     "duration": 6.093609,
     "end_time": "2021-07-01T07:36:11.527073",
     "exception": false,
     "start_time": "2021-07-01T07:36:05.433464",
     "status": "completed"
    },
    "tags": []
   },
   "outputs": [
    {
     "data": {
      "text/html": [
       "<style type='text/css'>\n",
       ".datatable table.frame { margin-bottom: 0; }\n",
       ".datatable table.frame thead { border-bottom: none; }\n",
       ".datatable table.frame tr.coltypes td {  color: #FFFFFF;  line-height: 6px;  padding: 0 0.5em;}\n",
       ".datatable .bool    { background: #DDDD99; }\n",
       ".datatable .object  { background: #565656; }\n",
       ".datatable .int     { background: #5D9E5D; }\n",
       ".datatable .float   { background: #4040CC; }\n",
       ".datatable .str     { background: #CC4040; }\n",
       ".datatable .row_index {  background: var(--jp-border-color3);  border-right: 1px solid var(--jp-border-color0);  color: var(--jp-ui-font-color3);  font-size: 9px;}\n",
       ".datatable .frame tr.coltypes .row_index {  background: var(--jp-border-color0);}\n",
       ".datatable th:nth-child(2) { padding-left: 12px; }\n",
       ".datatable .hellipsis {  color: var(--jp-cell-editor-border-color);}\n",
       ".datatable .vellipsis {  background: var(--jp-layout-color0);  color: var(--jp-cell-editor-border-color);}\n",
       ".datatable .na {  color: var(--jp-cell-editor-border-color);  font-size: 80%;}\n",
       ".datatable .footer { font-size: 9px; }\n",
       ".datatable .frame_dimensions {  background: var(--jp-border-color3);  border-top: 1px solid var(--jp-border-color0);  color: var(--jp-ui-font-color3);  display: inline-block;  opacity: 0.6;  padding: 1px 10px 1px 5px;}\n",
       "</style>\n"
      ],
      "text/plain": [
       "<IPython.core.display.HTML object>"
      ]
     },
     "metadata": {},
     "output_type": "display_data"
    },
    {
     "name": "stdout",
     "output_type": "stream",
     "text": [
      "Fitting Model\n",
      "Making predictions\n",
      "Generating submissions\n"
     ]
    }
   ],
   "source": [
    "import numpy as np\n",
    "import pandas as pd\n",
    "\n",
    "from lightgbm import LGBMClassifier\n",
    "\n",
    "SEED = 7\n",
    "np.random.seed(SEED)\n",
    "\n",
    "train = pd.read_csv(\"../input/tabular-playground-series-may-2021/train.csv\")\n",
    "test = pd.read_csv(\"../input/tabular-playground-series-may-2021/test.csv\")\n",
    "sub = pd.read_csv(\"../input/tabular-playground-series-may-2021/sample_submission.csv\")\n",
    "\n",
    "X_train = train.drop(\"target\", axis=1)\n",
    "y_train = train[\"target\"]\n",
    "\n",
    "model = LGBMClassifier()\n",
    "print(\"Fitting Model\")\n",
    "model.fit(X_train, y_train)\n",
    "print(\"Making predictions\")\n",
    "sub.iloc[:, 1:] = model.predict_proba(test)\n",
    "print(\"Generating submissions\")\n",
    "sub.to_csv(\"lgbm_no_tuning.csv\", index=False)"
   ]
  },
  {
   "cell_type": "code",
   "execution_count": null,
   "id": "shared-bridal",
   "metadata": {
    "papermill": {
     "duration": 0.005199,
     "end_time": "2021-07-01T07:36:11.538035",
     "exception": false,
     "start_time": "2021-07-01T07:36:11.532836",
     "status": "completed"
    },
    "tags": []
   },
   "outputs": [],
   "source": []
  }
 ],
 "metadata": {
  "kernelspec": {
   "display_name": "Python 3",
   "language": "python",
   "name": "python3"
  },
  "language_info": {
   "codemirror_mode": {
    "name": "ipython",
    "version": 3
   },
   "file_extension": ".py",
   "mimetype": "text/x-python",
   "name": "python",
   "nbconvert_exporter": "python",
   "pygments_lexer": "ipython3",
   "version": "3.7.9"
  },
  "papermill": {
   "default_parameters": {},
   "duration": 12.647105,
   "end_time": "2021-07-01T07:36:12.152324",
   "environment_variables": {},
   "exception": null,
   "input_path": "__notebook__.ipynb",
   "output_path": "__notebook__.ipynb",
   "parameters": {},
   "start_time": "2021-07-01T07:35:59.505219",
   "version": "2.3.2"
  }
 },
 "nbformat": 4,
 "nbformat_minor": 5
}
