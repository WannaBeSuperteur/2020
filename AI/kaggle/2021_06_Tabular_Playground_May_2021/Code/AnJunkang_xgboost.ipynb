{
 "cells": [
  {
   "cell_type": "code",
   "execution_count": 1,
   "id": "unusual-exhaust",
   "metadata": {
    "execution": {
     "iopub.execute_input": "2021-06-30T15:04:31.350975Z",
     "iopub.status.busy": "2021-06-30T15:04:31.350176Z",
     "iopub.status.idle": "2021-06-30T15:04:31.353831Z",
     "shell.execute_reply": "2021-06-30T15:04:31.353089Z",
     "shell.execute_reply.started": "2021-06-30T15:02:34.340128Z"
    },
    "papermill": {
     "duration": 0.045572,
     "end_time": "2021-06-30T15:04:31.354002",
     "exception": false,
     "start_time": "2021-06-30T15:04:31.308430",
     "status": "completed"
    },
    "tags": []
   },
   "outputs": [],
   "source": [
    "import pandas as pd\n",
    "import numpy as np"
   ]
  },
  {
   "cell_type": "code",
   "execution_count": 2,
   "id": "moved-trance",
   "metadata": {
    "execution": {
     "iopub.execute_input": "2021-06-30T15:04:31.416410Z",
     "iopub.status.busy": "2021-06-30T15:04:31.415670Z",
     "iopub.status.idle": "2021-06-30T15:04:32.159742Z",
     "shell.execute_reply": "2021-06-30T15:04:32.160234Z",
     "shell.execute_reply.started": "2021-06-30T15:02:34.352637Z"
    },
    "papermill": {
     "duration": 0.77749,
     "end_time": "2021-06-30T15:04:32.160444",
     "exception": false,
     "start_time": "2021-06-30T15:04:31.382954",
     "status": "completed"
    },
    "tags": []
   },
   "outputs": [],
   "source": [
    "test = pd.read_csv('../input/tabular-playground-series-may-2021/test.csv')\n",
    "train = pd.read_csv('../input/tabular-playground-series-may-2021/train.csv')\n",
    "submission = pd.read_csv('../input/tabular-playground-series-may-2021/sample_submission.csv')"
   ]
  },
  {
   "cell_type": "code",
   "execution_count": 3,
   "id": "thorough-nickel",
   "metadata": {
    "execution": {
     "iopub.execute_input": "2021-06-30T15:04:32.220622Z",
     "iopub.status.busy": "2021-06-30T15:04:32.219953Z",
     "iopub.status.idle": "2021-06-30T15:04:32.274008Z",
     "shell.execute_reply": "2021-06-30T15:04:32.273188Z",
     "shell.execute_reply.started": "2021-06-30T15:02:35.040227Z"
    },
    "papermill": {
     "duration": 0.0855,
     "end_time": "2021-06-30T15:04:32.274230",
     "exception": false,
     "start_time": "2021-06-30T15:04:32.188730",
     "status": "completed"
    },
    "tags": []
   },
   "outputs": [
    {
     "name": "stdout",
     "output_type": "stream",
     "text": [
      "<class 'pandas.core.frame.DataFrame'>\n",
      "RangeIndex: 100000 entries, 0 to 99999\n",
      "Data columns (total 52 columns):\n",
      " #   Column      Non-Null Count   Dtype \n",
      "---  ------      --------------   ----- \n",
      " 0   id          100000 non-null  int64 \n",
      " 1   feature_0   100000 non-null  int64 \n",
      " 2   feature_1   100000 non-null  int64 \n",
      " 3   feature_2   100000 non-null  int64 \n",
      " 4   feature_3   100000 non-null  int64 \n",
      " 5   feature_4   100000 non-null  int64 \n",
      " 6   feature_5   100000 non-null  int64 \n",
      " 7   feature_6   100000 non-null  int64 \n",
      " 8   feature_7   100000 non-null  int64 \n",
      " 9   feature_8   100000 non-null  int64 \n",
      " 10  feature_9   100000 non-null  int64 \n",
      " 11  feature_10  100000 non-null  int64 \n",
      " 12  feature_11  100000 non-null  int64 \n",
      " 13  feature_12  100000 non-null  int64 \n",
      " 14  feature_13  100000 non-null  int64 \n",
      " 15  feature_14  100000 non-null  int64 \n",
      " 16  feature_15  100000 non-null  int64 \n",
      " 17  feature_16  100000 non-null  int64 \n",
      " 18  feature_17  100000 non-null  int64 \n",
      " 19  feature_18  100000 non-null  int64 \n",
      " 20  feature_19  100000 non-null  int64 \n",
      " 21  feature_20  100000 non-null  int64 \n",
      " 22  feature_21  100000 non-null  int64 \n",
      " 23  feature_22  100000 non-null  int64 \n",
      " 24  feature_23  100000 non-null  int64 \n",
      " 25  feature_24  100000 non-null  int64 \n",
      " 26  feature_25  100000 non-null  int64 \n",
      " 27  feature_26  100000 non-null  int64 \n",
      " 28  feature_27  100000 non-null  int64 \n",
      " 29  feature_28  100000 non-null  int64 \n",
      " 30  feature_29  100000 non-null  int64 \n",
      " 31  feature_30  100000 non-null  int64 \n",
      " 32  feature_31  100000 non-null  int64 \n",
      " 33  feature_32  100000 non-null  int64 \n",
      " 34  feature_33  100000 non-null  int64 \n",
      " 35  feature_34  100000 non-null  int64 \n",
      " 36  feature_35  100000 non-null  int64 \n",
      " 37  feature_36  100000 non-null  int64 \n",
      " 38  feature_37  100000 non-null  int64 \n",
      " 39  feature_38  100000 non-null  int64 \n",
      " 40  feature_39  100000 non-null  int64 \n",
      " 41  feature_40  100000 non-null  int64 \n",
      " 42  feature_41  100000 non-null  int64 \n",
      " 43  feature_42  100000 non-null  int64 \n",
      " 44  feature_43  100000 non-null  int64 \n",
      " 45  feature_44  100000 non-null  int64 \n",
      " 46  feature_45  100000 non-null  int64 \n",
      " 47  feature_46  100000 non-null  int64 \n",
      " 48  feature_47  100000 non-null  int64 \n",
      " 49  feature_48  100000 non-null  int64 \n",
      " 50  feature_49  100000 non-null  int64 \n",
      " 51  target      100000 non-null  object\n",
      "dtypes: int64(51), object(1)\n",
      "memory usage: 39.7+ MB\n"
     ]
    }
   ],
   "source": [
    "train.info()"
   ]
  },
  {
   "cell_type": "code",
   "execution_count": 4,
   "id": "saved-chain",
   "metadata": {
    "execution": {
     "iopub.execute_input": "2021-06-30T15:04:32.355733Z",
     "iopub.status.busy": "2021-06-30T15:04:32.355085Z",
     "iopub.status.idle": "2021-06-30T15:04:32.359724Z",
     "shell.execute_reply": "2021-06-30T15:04:32.359164Z",
     "shell.execute_reply.started": "2021-06-30T15:02:35.095666Z"
    },
    "papermill": {
     "duration": 0.056285,
     "end_time": "2021-06-30T15:04:32.359863",
     "exception": false,
     "start_time": "2021-06-30T15:04:32.303578",
     "status": "completed"
    },
    "tags": []
   },
   "outputs": [],
   "source": [
    "train= train.drop('id', axis=1)"
   ]
  },
  {
   "cell_type": "code",
   "execution_count": 5,
   "id": "reduced-frederick",
   "metadata": {
    "execution": {
     "iopub.execute_input": "2021-06-30T15:04:32.430649Z",
     "iopub.status.busy": "2021-06-30T15:04:32.429838Z",
     "iopub.status.idle": "2021-06-30T15:04:32.433530Z",
     "shell.execute_reply": "2021-06-30T15:04:32.432899Z",
     "shell.execute_reply.started": "2021-06-30T15:02:35.118646Z"
    },
    "papermill": {
     "duration": 0.04489,
     "end_time": "2021-06-30T15:04:32.433671",
     "exception": false,
     "start_time": "2021-06-30T15:04:32.388781",
     "status": "completed"
    },
    "tags": []
   },
   "outputs": [],
   "source": [
    "test = test.drop('id',axis=1)"
   ]
  },
  {
   "cell_type": "code",
   "execution_count": 6,
   "id": "informal-portugal",
   "metadata": {
    "execution": {
     "iopub.execute_input": "2021-06-30T15:04:32.498326Z",
     "iopub.status.busy": "2021-06-30T15:04:32.497650Z",
     "iopub.status.idle": "2021-06-30T15:04:33.430065Z",
     "shell.execute_reply": "2021-06-30T15:04:33.429379Z",
     "shell.execute_reply.started": "2021-06-30T15:02:35.139182Z"
    },
    "papermill": {
     "duration": 0.965823,
     "end_time": "2021-06-30T15:04:33.430212",
     "exception": false,
     "start_time": "2021-06-30T15:04:32.464389",
     "status": "completed"
    },
    "tags": []
   },
   "outputs": [],
   "source": [
    "from sklearn.preprocessing import LabelEncoder"
   ]
  },
  {
   "cell_type": "code",
   "execution_count": 7,
   "id": "dress-sweet",
   "metadata": {
    "execution": {
     "iopub.execute_input": "2021-06-30T15:04:33.491079Z",
     "iopub.status.busy": "2021-06-30T15:04:33.490124Z",
     "iopub.status.idle": "2021-06-30T15:04:33.499927Z",
     "shell.execute_reply": "2021-06-30T15:04:33.500444Z",
     "shell.execute_reply.started": "2021-06-30T15:02:35.973197Z"
    },
    "papermill": {
     "duration": 0.041714,
     "end_time": "2021-06-30T15:04:33.500619",
     "exception": false,
     "start_time": "2021-06-30T15:04:33.458905",
     "status": "completed"
    },
    "tags": []
   },
   "outputs": [],
   "source": [
    "encoder= LabelEncoder().fit(train['target'])"
   ]
  },
  {
   "cell_type": "code",
   "execution_count": 8,
   "id": "parliamentary-christmas",
   "metadata": {
    "execution": {
     "iopub.execute_input": "2021-06-30T15:04:33.564372Z",
     "iopub.status.busy": "2021-06-30T15:04:33.563425Z",
     "iopub.status.idle": "2021-06-30T15:04:33.573586Z",
     "shell.execute_reply": "2021-06-30T15:04:33.574094Z",
     "shell.execute_reply.started": "2021-06-30T15:02:35.985999Z"
    },
    "papermill": {
     "duration": 0.044236,
     "end_time": "2021-06-30T15:04:33.574281",
     "exception": false,
     "start_time": "2021-06-30T15:04:33.530045",
     "status": "completed"
    },
    "tags": []
   },
   "outputs": [
    {
     "data": {
      "text/plain": [
       "LabelEncoder()"
      ]
     },
     "execution_count": 8,
     "metadata": {},
     "output_type": "execute_result"
    }
   ],
   "source": [
    "encoder"
   ]
  },
  {
   "cell_type": "code",
   "execution_count": 9,
   "id": "educational-piano",
   "metadata": {
    "execution": {
     "iopub.execute_input": "2021-06-30T15:04:33.637050Z",
     "iopub.status.busy": "2021-06-30T15:04:33.636428Z",
     "iopub.status.idle": "2021-06-30T15:04:33.671023Z",
     "shell.execute_reply": "2021-06-30T15:04:33.671553Z",
     "shell.execute_reply.started": "2021-06-30T15:02:36.002034Z"
    },
    "papermill": {
     "duration": 0.067739,
     "end_time": "2021-06-30T15:04:33.671734",
     "exception": false,
     "start_time": "2021-06-30T15:04:33.603995",
     "status": "completed"
    },
    "tags": []
   },
   "outputs": [],
   "source": [
    "train['target'] = encoder.transform(train['target'])"
   ]
  },
  {
   "cell_type": "code",
   "execution_count": 10,
   "id": "realistic-sensitivity",
   "metadata": {
    "execution": {
     "iopub.execute_input": "2021-06-30T15:04:33.732584Z",
     "iopub.status.busy": "2021-06-30T15:04:33.731958Z",
     "iopub.status.idle": "2021-06-30T15:04:33.739845Z",
     "shell.execute_reply": "2021-06-30T15:04:33.740365Z",
     "shell.execute_reply.started": "2021-06-30T15:02:36.038117Z"
    },
    "papermill": {
     "duration": 0.039636,
     "end_time": "2021-06-30T15:04:33.740536",
     "exception": false,
     "start_time": "2021-06-30T15:04:33.700900",
     "status": "completed"
    },
    "tags": []
   },
   "outputs": [
    {
     "data": {
      "text/plain": [
       "array([1, 0, 3, 2])"
      ]
     },
     "execution_count": 10,
     "metadata": {},
     "output_type": "execute_result"
    }
   ],
   "source": [
    "train['target'].unique()"
   ]
  },
  {
   "cell_type": "code",
   "execution_count": 11,
   "id": "dying-birthday",
   "metadata": {
    "execution": {
     "iopub.execute_input": "2021-06-30T15:04:33.801530Z",
     "iopub.status.busy": "2021-06-30T15:04:33.800942Z",
     "iopub.status.idle": "2021-06-30T15:04:33.855656Z",
     "shell.execute_reply": "2021-06-30T15:04:33.856209Z",
     "shell.execute_reply.started": "2021-06-30T15:02:36.057049Z"
    },
    "papermill": {
     "duration": 0.086764,
     "end_time": "2021-06-30T15:04:33.856411",
     "exception": false,
     "start_time": "2021-06-30T15:04:33.769647",
     "status": "completed"
    },
    "tags": []
   },
   "outputs": [],
   "source": [
    "x = train.drop(['target'],axis=1)"
   ]
  },
  {
   "cell_type": "code",
   "execution_count": 12,
   "id": "medium-johnston",
   "metadata": {
    "execution": {
     "iopub.execute_input": "2021-06-30T15:04:33.921887Z",
     "iopub.status.busy": "2021-06-30T15:04:33.921192Z",
     "iopub.status.idle": "2021-06-30T15:04:33.923523Z",
     "shell.execute_reply": "2021-06-30T15:04:33.924020Z",
     "shell.execute_reply.started": "2021-06-30T15:02:36.116457Z"
    },
    "papermill": {
     "duration": 0.03839,
     "end_time": "2021-06-30T15:04:33.924183",
     "exception": false,
     "start_time": "2021-06-30T15:04:33.885793",
     "status": "completed"
    },
    "tags": []
   },
   "outputs": [],
   "source": [
    "y = train['target']"
   ]
  },
  {
   "cell_type": "code",
   "execution_count": 13,
   "id": "further-waters",
   "metadata": {
    "execution": {
     "iopub.execute_input": "2021-06-30T15:04:33.990438Z",
     "iopub.status.busy": "2021-06-30T15:04:33.989458Z",
     "iopub.status.idle": "2021-06-30T15:04:34.008028Z",
     "shell.execute_reply": "2021-06-30T15:04:34.008642Z",
     "shell.execute_reply.started": "2021-06-30T15:02:36.122512Z"
    },
    "papermill": {
     "duration": 0.05535,
     "end_time": "2021-06-30T15:04:34.008809",
     "exception": false,
     "start_time": "2021-06-30T15:04:33.953459",
     "status": "completed"
    },
    "tags": []
   },
   "outputs": [
    {
     "data": {
      "text/html": [
       "<div>\n",
       "<style scoped>\n",
       "    .dataframe tbody tr th:only-of-type {\n",
       "        vertical-align: middle;\n",
       "    }\n",
       "\n",
       "    .dataframe tbody tr th {\n",
       "        vertical-align: top;\n",
       "    }\n",
       "\n",
       "    .dataframe thead th {\n",
       "        text-align: right;\n",
       "    }\n",
       "</style>\n",
       "<table border=\"1\" class=\"dataframe\">\n",
       "  <thead>\n",
       "    <tr style=\"text-align: right;\">\n",
       "      <th></th>\n",
       "      <th>feature_0</th>\n",
       "      <th>feature_1</th>\n",
       "      <th>feature_2</th>\n",
       "      <th>feature_3</th>\n",
       "      <th>feature_4</th>\n",
       "      <th>feature_5</th>\n",
       "      <th>feature_6</th>\n",
       "      <th>feature_7</th>\n",
       "      <th>feature_8</th>\n",
       "      <th>feature_9</th>\n",
       "      <th>...</th>\n",
       "      <th>feature_40</th>\n",
       "      <th>feature_41</th>\n",
       "      <th>feature_42</th>\n",
       "      <th>feature_43</th>\n",
       "      <th>feature_44</th>\n",
       "      <th>feature_45</th>\n",
       "      <th>feature_46</th>\n",
       "      <th>feature_47</th>\n",
       "      <th>feature_48</th>\n",
       "      <th>feature_49</th>\n",
       "    </tr>\n",
       "  </thead>\n",
       "  <tbody>\n",
       "    <tr>\n",
       "      <th>0</th>\n",
       "      <td>0</td>\n",
       "      <td>0</td>\n",
       "      <td>1</td>\n",
       "      <td>0</td>\n",
       "      <td>1</td>\n",
       "      <td>0</td>\n",
       "      <td>0</td>\n",
       "      <td>0</td>\n",
       "      <td>0</td>\n",
       "      <td>0</td>\n",
       "      <td>...</td>\n",
       "      <td>3</td>\n",
       "      <td>0</td>\n",
       "      <td>0</td>\n",
       "      <td>21</td>\n",
       "      <td>0</td>\n",
       "      <td>0</td>\n",
       "      <td>0</td>\n",
       "      <td>0</td>\n",
       "      <td>0</td>\n",
       "      <td>0</td>\n",
       "    </tr>\n",
       "    <tr>\n",
       "      <th>1</th>\n",
       "      <td>0</td>\n",
       "      <td>0</td>\n",
       "      <td>0</td>\n",
       "      <td>0</td>\n",
       "      <td>2</td>\n",
       "      <td>1</td>\n",
       "      <td>0</td>\n",
       "      <td>0</td>\n",
       "      <td>0</td>\n",
       "      <td>0</td>\n",
       "      <td>...</td>\n",
       "      <td>0</td>\n",
       "      <td>0</td>\n",
       "      <td>0</td>\n",
       "      <td>0</td>\n",
       "      <td>0</td>\n",
       "      <td>0</td>\n",
       "      <td>0</td>\n",
       "      <td>0</td>\n",
       "      <td>0</td>\n",
       "      <td>0</td>\n",
       "    </tr>\n",
       "    <tr>\n",
       "      <th>2</th>\n",
       "      <td>0</td>\n",
       "      <td>0</td>\n",
       "      <td>0</td>\n",
       "      <td>0</td>\n",
       "      <td>0</td>\n",
       "      <td>0</td>\n",
       "      <td>0</td>\n",
       "      <td>0</td>\n",
       "      <td>0</td>\n",
       "      <td>2</td>\n",
       "      <td>...</td>\n",
       "      <td>0</td>\n",
       "      <td>0</td>\n",
       "      <td>1</td>\n",
       "      <td>0</td>\n",
       "      <td>0</td>\n",
       "      <td>0</td>\n",
       "      <td>0</td>\n",
       "      <td>13</td>\n",
       "      <td>2</td>\n",
       "      <td>0</td>\n",
       "    </tr>\n",
       "  </tbody>\n",
       "</table>\n",
       "<p>3 rows × 50 columns</p>\n",
       "</div>"
      ],
      "text/plain": [
       "   feature_0  feature_1  feature_2  feature_3  feature_4  feature_5  \\\n",
       "0          0          0          1          0          1          0   \n",
       "1          0          0          0          0          2          1   \n",
       "2          0          0          0          0          0          0   \n",
       "\n",
       "   feature_6  feature_7  feature_8  feature_9  ...  feature_40  feature_41  \\\n",
       "0          0          0          0          0  ...           3           0   \n",
       "1          0          0          0          0  ...           0           0   \n",
       "2          0          0          0          2  ...           0           0   \n",
       "\n",
       "   feature_42  feature_43  feature_44  feature_45  feature_46  feature_47  \\\n",
       "0           0          21           0           0           0           0   \n",
       "1           0           0           0           0           0           0   \n",
       "2           1           0           0           0           0          13   \n",
       "\n",
       "   feature_48  feature_49  \n",
       "0           0           0  \n",
       "1           0           0  \n",
       "2           2           0  \n",
       "\n",
       "[3 rows x 50 columns]"
      ]
     },
     "execution_count": 13,
     "metadata": {},
     "output_type": "execute_result"
    }
   ],
   "source": [
    "x.head(3)"
   ]
  },
  {
   "cell_type": "code",
   "execution_count": 14,
   "id": "divine-government",
   "metadata": {
    "execution": {
     "iopub.execute_input": "2021-06-30T15:04:34.073124Z",
     "iopub.status.busy": "2021-06-30T15:04:34.072534Z",
     "iopub.status.idle": "2021-06-30T15:04:34.079583Z",
     "shell.execute_reply": "2021-06-30T15:04:34.079011Z",
     "shell.execute_reply.started": "2021-06-30T15:02:36.153080Z"
    },
    "papermill": {
     "duration": 0.040641,
     "end_time": "2021-06-30T15:04:34.079730",
     "exception": false,
     "start_time": "2021-06-30T15:04:34.039089",
     "status": "completed"
    },
    "tags": []
   },
   "outputs": [
    {
     "data": {
      "text/plain": [
       "0    1\n",
       "1    0\n",
       "2    0\n",
       "Name: target, dtype: int64"
      ]
     },
     "execution_count": 14,
     "metadata": {},
     "output_type": "execute_result"
    }
   ],
   "source": [
    "y.head(3)"
   ]
  },
  {
   "cell_type": "code",
   "execution_count": 15,
   "id": "representative-salem",
   "metadata": {
    "execution": {
     "iopub.execute_input": "2021-06-30T15:04:34.147178Z",
     "iopub.status.busy": "2021-06-30T15:04:34.145375Z",
     "iopub.status.idle": "2021-06-30T15:04:34.292291Z",
     "shell.execute_reply": "2021-06-30T15:04:34.291677Z",
     "shell.execute_reply.started": "2021-06-30T15:02:36.162871Z"
    },
    "papermill": {
     "duration": 0.181382,
     "end_time": "2021-06-30T15:04:34.292445",
     "exception": false,
     "start_time": "2021-06-30T15:04:34.111063",
     "status": "completed"
    },
    "tags": []
   },
   "outputs": [],
   "source": [
    "import xgboost\n",
    "from xgboost import XGBClassifier\n",
    "from sklearn.model_selection import train_test_split\n",
    "from sklearn.metrics import accuracy_score"
   ]
  },
  {
   "cell_type": "code",
   "execution_count": 16,
   "id": "lined-thunder",
   "metadata": {
    "execution": {
     "iopub.execute_input": "2021-06-30T15:04:34.358709Z",
     "iopub.status.busy": "2021-06-30T15:04:34.358021Z",
     "iopub.status.idle": "2021-06-30T15:04:34.415293Z",
     "shell.execute_reply": "2021-06-30T15:04:34.414720Z",
     "shell.execute_reply.started": "2021-06-30T15:02:36.305375Z"
    },
    "papermill": {
     "duration": 0.092856,
     "end_time": "2021-06-30T15:04:34.415460",
     "exception": false,
     "start_time": "2021-06-30T15:04:34.322604",
     "status": "completed"
    },
    "tags": []
   },
   "outputs": [],
   "source": [
    "X_train,X_test,y_train,y_test = train_test_split(x,y,test_size=0.2,random_state=1997)"
   ]
  },
  {
   "cell_type": "code",
   "execution_count": 17,
   "id": "south-passage",
   "metadata": {
    "execution": {
     "iopub.execute_input": "2021-06-30T15:04:34.481849Z",
     "iopub.status.busy": "2021-06-30T15:04:34.481204Z",
     "iopub.status.idle": "2021-06-30T15:04:34.483882Z",
     "shell.execute_reply": "2021-06-30T15:04:34.484579Z",
     "shell.execute_reply.started": "2021-06-30T15:02:36.364408Z"
    },
    "papermill": {
     "duration": 0.038921,
     "end_time": "2021-06-30T15:04:34.484807",
     "exception": false,
     "start_time": "2021-06-30T15:04:34.445886",
     "status": "completed"
    },
    "tags": []
   },
   "outputs": [
    {
     "name": "stdout",
     "output_type": "stream",
     "text": [
      "(80000, 50) (80000,) (20000, 50) (20000,)\n"
     ]
    }
   ],
   "source": [
    "print(X_train.shape,y_train.shape,X_test.shape,y_test.shape)"
   ]
  },
  {
   "cell_type": "code",
   "execution_count": 18,
   "id": "crucial-dallas",
   "metadata": {
    "execution": {
     "iopub.execute_input": "2021-06-30T15:04:34.550092Z",
     "iopub.status.busy": "2021-06-30T15:04:34.549482Z",
     "iopub.status.idle": "2021-06-30T15:04:34.554199Z",
     "shell.execute_reply": "2021-06-30T15:04:34.553565Z",
     "shell.execute_reply.started": "2021-06-30T15:02:36.372962Z"
    },
    "papermill": {
     "duration": 0.037729,
     "end_time": "2021-06-30T15:04:34.554372",
     "exception": false,
     "start_time": "2021-06-30T15:04:34.516643",
     "status": "completed"
    },
    "tags": []
   },
   "outputs": [],
   "source": [
    "model = XGBClassifier(num_class=4, objective='multi:softprob')"
   ]
  },
  {
   "cell_type": "code",
   "execution_count": 19,
   "id": "moved-ranch",
   "metadata": {
    "execution": {
     "iopub.execute_input": "2021-06-30T15:04:34.620469Z",
     "iopub.status.busy": "2021-06-30T15:04:34.619803Z",
     "iopub.status.idle": "2021-06-30T15:04:34.625146Z",
     "shell.execute_reply": "2021-06-30T15:04:34.625672Z",
     "shell.execute_reply.started": "2021-06-30T15:02:36.383744Z"
    },
    "papermill": {
     "duration": 0.039232,
     "end_time": "2021-06-30T15:04:34.625848",
     "exception": false,
     "start_time": "2021-06-30T15:04:34.586616",
     "status": "completed"
    },
    "tags": []
   },
   "outputs": [
    {
     "name": "stdout",
     "output_type": "stream",
     "text": [
      "XGBClassifier(base_score=None, booster=None, colsample_bylevel=None,\n",
      "              colsample_bynode=None, colsample_bytree=None, gamma=None,\n",
      "              gpu_id=None, importance_type='gain', interaction_constraints=None,\n",
      "              learning_rate=None, max_delta_step=None, max_depth=None,\n",
      "              min_child_weight=None, missing=nan, monotone_constraints=None,\n",
      "              n_estimators=100, n_jobs=None, num_class=4,\n",
      "              num_parallel_tree=None, objective='multi:softprob',\n",
      "              random_state=None, reg_alpha=None, reg_lambda=None,\n",
      "              scale_pos_weight=None, subsample=None, tree_method=None,\n",
      "              validate_parameters=None, verbosity=None)\n"
     ]
    }
   ],
   "source": [
    "print(model)"
   ]
  },
  {
   "cell_type": "code",
   "execution_count": 20,
   "id": "included-crawford",
   "metadata": {
    "execution": {
     "iopub.execute_input": "2021-06-30T15:04:34.693738Z",
     "iopub.status.busy": "2021-06-30T15:04:34.693033Z",
     "iopub.status.idle": "2021-06-30T15:05:01.698005Z",
     "shell.execute_reply": "2021-06-30T15:05:01.698758Z",
     "shell.execute_reply.started": "2021-06-30T15:02:36.397158Z"
    },
    "papermill": {
     "duration": 27.041903,
     "end_time": "2021-06-30T15:05:01.698951",
     "exception": false,
     "start_time": "2021-06-30T15:04:34.657048",
     "status": "completed"
    },
    "tags": []
   },
   "outputs": [
    {
     "name": "stderr",
     "output_type": "stream",
     "text": [
      "/opt/conda/lib/python3.7/site-packages/xgboost/sklearn.py:1146: UserWarning: The use of label encoder in XGBClassifier is deprecated and will be removed in a future release. To remove this warning, do the following: 1) Pass option use_label_encoder=False when constructing XGBClassifier object; and 2) Encode your labels (y) as integers starting with 0, i.e. 0, 1, 2, ..., [num_class - 1].\n",
      "  warnings.warn(label_encoder_deprecation_msg, UserWarning)\n"
     ]
    },
    {
     "name": "stdout",
     "output_type": "stream",
     "text": [
      "[15:04:35] WARNING: ../src/learner.cc:1095: Starting in XGBoost 1.3.0, the default evaluation metric used with the objective 'multi:softprob' was changed from 'merror' to 'mlogloss'. Explicitly set eval_metric if you'd like to restore the old behavior.\n"
     ]
    },
    {
     "data": {
      "text/plain": [
       "XGBClassifier(base_score=0.5, booster='gbtree', colsample_bylevel=1,\n",
       "              colsample_bynode=1, colsample_bytree=1, gamma=0, gpu_id=-1,\n",
       "              importance_type='gain', interaction_constraints='',\n",
       "              learning_rate=0.300000012, max_delta_step=0, max_depth=6,\n",
       "              min_child_weight=1, missing=nan, monotone_constraints='()',\n",
       "              n_estimators=100, n_jobs=4, num_class=4, num_parallel_tree=1,\n",
       "              objective='multi:softprob', random_state=0, reg_alpha=0,\n",
       "              reg_lambda=1, scale_pos_weight=None, subsample=1,\n",
       "              tree_method='exact', validate_parameters=1, verbosity=None)"
      ]
     },
     "execution_count": 20,
     "metadata": {},
     "output_type": "execute_result"
    }
   ],
   "source": [
    "model.fit(X_train,y_train)"
   ]
  },
  {
   "cell_type": "code",
   "execution_count": 21,
   "id": "efficient-tribe",
   "metadata": {
    "execution": {
     "iopub.execute_input": "2021-06-30T15:05:01.769075Z",
     "iopub.status.busy": "2021-06-30T15:05:01.768442Z",
     "iopub.status.idle": "2021-06-30T15:05:01.989112Z",
     "shell.execute_reply": "2021-06-30T15:05:01.989668Z",
     "shell.execute_reply.started": "2021-06-30T15:03:04.147395Z"
    },
    "papermill": {
     "duration": 0.257672,
     "end_time": "2021-06-30T15:05:01.989859",
     "exception": false,
     "start_time": "2021-06-30T15:05:01.732187",
     "status": "completed"
    },
    "tags": []
   },
   "outputs": [
    {
     "name": "stderr",
     "output_type": "stream",
     "text": [
      "/opt/conda/lib/python3.7/site-packages/xgboost/data.py:114: UserWarning: Use subset (sliced data) of np.ndarray is not recommended because it will generate extra copies and increase memory consumption\n",
      "  \"because it will generate extra copies and increase \" +\n"
     ]
    }
   ],
   "source": [
    "y_pred=model.predict(X_test)\n",
    "y_pred_proba = model.predict_proba(X_test)\n",
    "predictions = [round(value) for value in y_pred]"
   ]
  },
  {
   "cell_type": "code",
   "execution_count": 22,
   "id": "wrapped-bible",
   "metadata": {
    "execution": {
     "iopub.execute_input": "2021-06-30T15:05:02.057379Z",
     "iopub.status.busy": "2021-06-30T15:05:02.056745Z",
     "iopub.status.idle": "2021-06-30T15:05:02.069361Z",
     "shell.execute_reply": "2021-06-30T15:05:02.068837Z",
     "shell.execute_reply.started": "2021-06-30T15:03:04.366268Z"
    },
    "papermill": {
     "duration": 0.047208,
     "end_time": "2021-06-30T15:05:02.069509",
     "exception": false,
     "start_time": "2021-06-30T15:05:02.022301",
     "status": "completed"
    },
    "tags": []
   },
   "outputs": [
    {
     "data": {
      "text/html": [
       "<div>\n",
       "<style scoped>\n",
       "    .dataframe tbody tr th:only-of-type {\n",
       "        vertical-align: middle;\n",
       "    }\n",
       "\n",
       "    .dataframe tbody tr th {\n",
       "        vertical-align: top;\n",
       "    }\n",
       "\n",
       "    .dataframe thead th {\n",
       "        text-align: right;\n",
       "    }\n",
       "</style>\n",
       "<table border=\"1\" class=\"dataframe\">\n",
       "  <thead>\n",
       "    <tr style=\"text-align: right;\">\n",
       "      <th></th>\n",
       "      <th>id</th>\n",
       "      <th>Class_1</th>\n",
       "      <th>Class_2</th>\n",
       "      <th>Class_3</th>\n",
       "      <th>Class_4</th>\n",
       "    </tr>\n",
       "  </thead>\n",
       "  <tbody>\n",
       "    <tr>\n",
       "      <th>0</th>\n",
       "      <td>100000</td>\n",
       "      <td>0.25</td>\n",
       "      <td>0.25</td>\n",
       "      <td>0.25</td>\n",
       "      <td>0.25</td>\n",
       "    </tr>\n",
       "    <tr>\n",
       "      <th>1</th>\n",
       "      <td>100001</td>\n",
       "      <td>0.25</td>\n",
       "      <td>0.25</td>\n",
       "      <td>0.25</td>\n",
       "      <td>0.25</td>\n",
       "    </tr>\n",
       "    <tr>\n",
       "      <th>2</th>\n",
       "      <td>100002</td>\n",
       "      <td>0.25</td>\n",
       "      <td>0.25</td>\n",
       "      <td>0.25</td>\n",
       "      <td>0.25</td>\n",
       "    </tr>\n",
       "  </tbody>\n",
       "</table>\n",
       "</div>"
      ],
      "text/plain": [
       "       id  Class_1  Class_2  Class_3  Class_4\n",
       "0  100000     0.25     0.25     0.25     0.25\n",
       "1  100001     0.25     0.25     0.25     0.25\n",
       "2  100002     0.25     0.25     0.25     0.25"
      ]
     },
     "execution_count": 22,
     "metadata": {},
     "output_type": "execute_result"
    }
   ],
   "source": [
    "submission.head(3)"
   ]
  },
  {
   "cell_type": "code",
   "execution_count": 23,
   "id": "industrial-diana",
   "metadata": {
    "execution": {
     "iopub.execute_input": "2021-06-30T15:05:02.141456Z",
     "iopub.status.busy": "2021-06-30T15:05:02.140808Z",
     "iopub.status.idle": "2021-06-30T15:05:02.143823Z",
     "shell.execute_reply": "2021-06-30T15:05:02.143323Z",
     "shell.execute_reply.started": "2021-06-30T15:03:04.383930Z"
    },
    "papermill": {
     "duration": 0.040802,
     "end_time": "2021-06-30T15:05:02.143963",
     "exception": false,
     "start_time": "2021-06-30T15:05:02.103161",
     "status": "completed"
    },
    "tags": []
   },
   "outputs": [],
   "source": [
    "index = submission.columns.values.tolist()"
   ]
  },
  {
   "cell_type": "code",
   "execution_count": 24,
   "id": "fundamental-margin",
   "metadata": {
    "execution": {
     "iopub.execute_input": "2021-06-30T15:05:02.216069Z",
     "iopub.status.busy": "2021-06-30T15:05:02.215171Z",
     "iopub.status.idle": "2021-06-30T15:05:02.219312Z",
     "shell.execute_reply": "2021-06-30T15:05:02.218772Z",
     "shell.execute_reply.started": "2021-06-30T15:03:04.392491Z"
    },
    "papermill": {
     "duration": 0.042766,
     "end_time": "2021-06-30T15:05:02.219463",
     "exception": false,
     "start_time": "2021-06-30T15:05:02.176697",
     "status": "completed"
    },
    "tags": []
   },
   "outputs": [
    {
     "data": {
      "text/plain": [
       "['Class_1', 'Class_2', 'Class_3', 'Class_4']"
      ]
     },
     "execution_count": 24,
     "metadata": {},
     "output_type": "execute_result"
    }
   ],
   "source": [
    "index[1:5]"
   ]
  },
  {
   "cell_type": "code",
   "execution_count": 25,
   "id": "asian-student",
   "metadata": {
    "execution": {
     "iopub.execute_input": "2021-06-30T15:05:02.293505Z",
     "iopub.status.busy": "2021-06-30T15:05:02.292525Z",
     "iopub.status.idle": "2021-06-30T15:05:02.539938Z",
     "shell.execute_reply": "2021-06-30T15:05:02.540484Z",
     "shell.execute_reply.started": "2021-06-30T15:03:04.402837Z"
    },
    "papermill": {
     "duration": 0.286315,
     "end_time": "2021-06-30T15:05:02.540698",
     "exception": false,
     "start_time": "2021-06-30T15:05:02.254383",
     "status": "completed"
    },
    "tags": []
   },
   "outputs": [
    {
     "name": "stderr",
     "output_type": "stream",
     "text": [
      "/opt/conda/lib/python3.7/site-packages/xgboost/data.py:114: UserWarning: Use subset (sliced data) of np.ndarray is not recommended because it will generate extra copies and increase memory consumption\n",
      "  \"because it will generate extra copies and increase \" +\n"
     ]
    }
   ],
   "source": [
    "test_y = model.predict_proba(test)"
   ]
  },
  {
   "cell_type": "code",
   "execution_count": 26,
   "id": "basic-distributor",
   "metadata": {
    "execution": {
     "iopub.execute_input": "2021-06-30T15:05:02.622388Z",
     "iopub.status.busy": "2021-06-30T15:05:02.621705Z",
     "iopub.status.idle": "2021-06-30T15:05:02.624053Z",
     "shell.execute_reply": "2021-06-30T15:05:02.624609Z",
     "shell.execute_reply.started": "2021-06-30T15:03:04.639928Z"
    },
    "papermill": {
     "duration": 0.042663,
     "end_time": "2021-06-30T15:05:02.624782",
     "exception": false,
     "start_time": "2021-06-30T15:05:02.582119",
     "status": "completed"
    },
    "tags": []
   },
   "outputs": [],
   "source": [
    "sub = pd.DataFrame(test_y,columns = index[1:5])"
   ]
  },
  {
   "cell_type": "code",
   "execution_count": 27,
   "id": "indirect-winner",
   "metadata": {
    "execution": {
     "iopub.execute_input": "2021-06-30T15:05:02.703664Z",
     "iopub.status.busy": "2021-06-30T15:05:02.702983Z",
     "iopub.status.idle": "2021-06-30T15:05:02.709084Z",
     "shell.execute_reply": "2021-06-30T15:05:02.709801Z",
     "shell.execute_reply.started": "2021-06-30T15:03:04.651661Z"
    },
    "papermill": {
     "duration": 0.050113,
     "end_time": "2021-06-30T15:05:02.710002",
     "exception": false,
     "start_time": "2021-06-30T15:05:02.659889",
     "status": "completed"
    },
    "tags": []
   },
   "outputs": [
    {
     "data": {
      "text/plain": [
       "(50000, 4)"
      ]
     },
     "execution_count": 27,
     "metadata": {},
     "output_type": "execute_result"
    }
   ],
   "source": [
    "sub.shape"
   ]
  },
  {
   "cell_type": "code",
   "execution_count": 28,
   "id": "productive-investing",
   "metadata": {
    "execution": {
     "iopub.execute_input": "2021-06-30T15:05:02.804945Z",
     "iopub.status.busy": "2021-06-30T15:05:02.803628Z",
     "iopub.status.idle": "2021-06-30T15:05:02.807721Z",
     "shell.execute_reply": "2021-06-30T15:05:02.806970Z",
     "shell.execute_reply.started": "2021-06-30T15:03:04.659569Z"
    },
    "papermill": {
     "duration": 0.06118,
     "end_time": "2021-06-30T15:05:02.807914",
     "exception": false,
     "start_time": "2021-06-30T15:05:02.746734",
     "status": "completed"
    },
    "tags": []
   },
   "outputs": [
    {
     "data": {
      "text/html": [
       "<div>\n",
       "<style scoped>\n",
       "    .dataframe tbody tr th:only-of-type {\n",
       "        vertical-align: middle;\n",
       "    }\n",
       "\n",
       "    .dataframe tbody tr th {\n",
       "        vertical-align: top;\n",
       "    }\n",
       "\n",
       "    .dataframe thead th {\n",
       "        text-align: right;\n",
       "    }\n",
       "</style>\n",
       "<table border=\"1\" class=\"dataframe\">\n",
       "  <thead>\n",
       "    <tr style=\"text-align: right;\">\n",
       "      <th></th>\n",
       "      <th>Class_1</th>\n",
       "      <th>Class_2</th>\n",
       "      <th>Class_3</th>\n",
       "      <th>Class_4</th>\n",
       "    </tr>\n",
       "  </thead>\n",
       "  <tbody>\n",
       "    <tr>\n",
       "      <th>0</th>\n",
       "      <td>0.087178</td>\n",
       "      <td>0.615458</td>\n",
       "      <td>0.204304</td>\n",
       "      <td>0.093060</td>\n",
       "    </tr>\n",
       "    <tr>\n",
       "      <th>1</th>\n",
       "      <td>0.037108</td>\n",
       "      <td>0.792423</td>\n",
       "      <td>0.093687</td>\n",
       "      <td>0.076782</td>\n",
       "    </tr>\n",
       "    <tr>\n",
       "      <th>2</th>\n",
       "      <td>0.070228</td>\n",
       "      <td>0.664214</td>\n",
       "      <td>0.177875</td>\n",
       "      <td>0.087683</td>\n",
       "    </tr>\n",
       "  </tbody>\n",
       "</table>\n",
       "</div>"
      ],
      "text/plain": [
       "    Class_1   Class_2   Class_3   Class_4\n",
       "0  0.087178  0.615458  0.204304  0.093060\n",
       "1  0.037108  0.792423  0.093687  0.076782\n",
       "2  0.070228  0.664214  0.177875  0.087683"
      ]
     },
     "execution_count": 28,
     "metadata": {},
     "output_type": "execute_result"
    }
   ],
   "source": [
    "sub.head(3)"
   ]
  },
  {
   "cell_type": "code",
   "execution_count": 29,
   "id": "mineral-venue",
   "metadata": {
    "execution": {
     "iopub.execute_input": "2021-06-30T15:05:02.883177Z",
     "iopub.status.busy": "2021-06-30T15:05:02.882221Z",
     "iopub.status.idle": "2021-06-30T15:05:02.887525Z",
     "shell.execute_reply": "2021-06-30T15:05:02.888025Z",
     "shell.execute_reply.started": "2021-06-30T15:03:04.676489Z"
    },
    "papermill": {
     "duration": 0.044194,
     "end_time": "2021-06-30T15:05:02.888204",
     "exception": false,
     "start_time": "2021-06-30T15:05:02.844010",
     "status": "completed"
    },
    "tags": []
   },
   "outputs": [],
   "source": [
    "sub['id'] = submission['id']"
   ]
  },
  {
   "cell_type": "markdown",
   "id": "boring-check",
   "metadata": {
    "papermill": {
     "duration": 0.037375,
     "end_time": "2021-06-30T15:05:02.961418",
     "exception": false,
     "start_time": "2021-06-30T15:05:02.924043",
     "status": "completed"
    },
    "tags": []
   },
   "source": []
  },
  {
   "cell_type": "code",
   "execution_count": 30,
   "id": "funky-cutting",
   "metadata": {
    "execution": {
     "iopub.execute_input": "2021-06-30T15:05:03.035292Z",
     "iopub.status.busy": "2021-06-30T15:05:03.034226Z",
     "iopub.status.idle": "2021-06-30T15:05:03.045985Z",
     "shell.execute_reply": "2021-06-30T15:05:03.046482Z",
     "shell.execute_reply.started": "2021-06-30T15:03:04.691369Z"
    },
    "papermill": {
     "duration": 0.050418,
     "end_time": "2021-06-30T15:05:03.046670",
     "exception": false,
     "start_time": "2021-06-30T15:05:02.996252",
     "status": "completed"
    },
    "tags": []
   },
   "outputs": [
    {
     "data": {
      "text/html": [
       "<div>\n",
       "<style scoped>\n",
       "    .dataframe tbody tr th:only-of-type {\n",
       "        vertical-align: middle;\n",
       "    }\n",
       "\n",
       "    .dataframe tbody tr th {\n",
       "        vertical-align: top;\n",
       "    }\n",
       "\n",
       "    .dataframe thead th {\n",
       "        text-align: right;\n",
       "    }\n",
       "</style>\n",
       "<table border=\"1\" class=\"dataframe\">\n",
       "  <thead>\n",
       "    <tr style=\"text-align: right;\">\n",
       "      <th></th>\n",
       "      <th>Class_1</th>\n",
       "      <th>Class_2</th>\n",
       "      <th>Class_3</th>\n",
       "      <th>Class_4</th>\n",
       "      <th>id</th>\n",
       "    </tr>\n",
       "  </thead>\n",
       "  <tbody>\n",
       "    <tr>\n",
       "      <th>0</th>\n",
       "      <td>0.087178</td>\n",
       "      <td>0.615458</td>\n",
       "      <td>0.204304</td>\n",
       "      <td>0.093060</td>\n",
       "      <td>100000</td>\n",
       "    </tr>\n",
       "    <tr>\n",
       "      <th>1</th>\n",
       "      <td>0.037108</td>\n",
       "      <td>0.792423</td>\n",
       "      <td>0.093687</td>\n",
       "      <td>0.076782</td>\n",
       "      <td>100001</td>\n",
       "    </tr>\n",
       "    <tr>\n",
       "      <th>2</th>\n",
       "      <td>0.070228</td>\n",
       "      <td>0.664214</td>\n",
       "      <td>0.177875</td>\n",
       "      <td>0.087683</td>\n",
       "      <td>100002</td>\n",
       "    </tr>\n",
       "  </tbody>\n",
       "</table>\n",
       "</div>"
      ],
      "text/plain": [
       "    Class_1   Class_2   Class_3   Class_4      id\n",
       "0  0.087178  0.615458  0.204304  0.093060  100000\n",
       "1  0.037108  0.792423  0.093687  0.076782  100001\n",
       "2  0.070228  0.664214  0.177875  0.087683  100002"
      ]
     },
     "execution_count": 30,
     "metadata": {},
     "output_type": "execute_result"
    }
   ],
   "source": [
    "sub.head(3)"
   ]
  },
  {
   "cell_type": "code",
   "execution_count": 31,
   "id": "applicable-skiing",
   "metadata": {
    "execution": {
     "iopub.execute_input": "2021-06-30T15:05:03.121829Z",
     "iopub.status.busy": "2021-06-30T15:05:03.120807Z",
     "iopub.status.idle": "2021-06-30T15:05:03.126823Z",
     "shell.execute_reply": "2021-06-30T15:05:03.127333Z",
     "shell.execute_reply.started": "2021-06-30T15:03:04.711373Z"
    },
    "papermill": {
     "duration": 0.045455,
     "end_time": "2021-06-30T15:05:03.127542",
     "exception": false,
     "start_time": "2021-06-30T15:05:03.082087",
     "status": "completed"
    },
    "tags": []
   },
   "outputs": [],
   "source": [
    "submission = sub[['id','Class_1','Class_2','Class_3','Class_4']]"
   ]
  },
  {
   "cell_type": "code",
   "execution_count": 32,
   "id": "paperback-creation",
   "metadata": {
    "execution": {
     "iopub.execute_input": "2021-06-30T15:05:03.202470Z",
     "iopub.status.busy": "2021-06-30T15:05:03.201510Z",
     "iopub.status.idle": "2021-06-30T15:05:03.214356Z",
     "shell.execute_reply": "2021-06-30T15:05:03.213824Z",
     "shell.execute_reply.started": "2021-06-30T15:03:04.720559Z"
    },
    "papermill": {
     "duration": 0.051427,
     "end_time": "2021-06-30T15:05:03.214501",
     "exception": false,
     "start_time": "2021-06-30T15:05:03.163074",
     "status": "completed"
    },
    "tags": []
   },
   "outputs": [
    {
     "data": {
      "text/html": [
       "<div>\n",
       "<style scoped>\n",
       "    .dataframe tbody tr th:only-of-type {\n",
       "        vertical-align: middle;\n",
       "    }\n",
       "\n",
       "    .dataframe tbody tr th {\n",
       "        vertical-align: top;\n",
       "    }\n",
       "\n",
       "    .dataframe thead th {\n",
       "        text-align: right;\n",
       "    }\n",
       "</style>\n",
       "<table border=\"1\" class=\"dataframe\">\n",
       "  <thead>\n",
       "    <tr style=\"text-align: right;\">\n",
       "      <th></th>\n",
       "      <th>id</th>\n",
       "      <th>Class_1</th>\n",
       "      <th>Class_2</th>\n",
       "      <th>Class_3</th>\n",
       "      <th>Class_4</th>\n",
       "    </tr>\n",
       "  </thead>\n",
       "  <tbody>\n",
       "    <tr>\n",
       "      <th>0</th>\n",
       "      <td>100000</td>\n",
       "      <td>0.087178</td>\n",
       "      <td>0.615458</td>\n",
       "      <td>0.204304</td>\n",
       "      <td>0.093060</td>\n",
       "    </tr>\n",
       "    <tr>\n",
       "      <th>1</th>\n",
       "      <td>100001</td>\n",
       "      <td>0.037108</td>\n",
       "      <td>0.792423</td>\n",
       "      <td>0.093687</td>\n",
       "      <td>0.076782</td>\n",
       "    </tr>\n",
       "    <tr>\n",
       "      <th>2</th>\n",
       "      <td>100002</td>\n",
       "      <td>0.070228</td>\n",
       "      <td>0.664214</td>\n",
       "      <td>0.177875</td>\n",
       "      <td>0.087683</td>\n",
       "    </tr>\n",
       "    <tr>\n",
       "      <th>3</th>\n",
       "      <td>100003</td>\n",
       "      <td>0.079456</td>\n",
       "      <td>0.534513</td>\n",
       "      <td>0.301497</td>\n",
       "      <td>0.084535</td>\n",
       "    </tr>\n",
       "    <tr>\n",
       "      <th>4</th>\n",
       "      <td>100004</td>\n",
       "      <td>0.071710</td>\n",
       "      <td>0.626422</td>\n",
       "      <td>0.208744</td>\n",
       "      <td>0.093124</td>\n",
       "    </tr>\n",
       "  </tbody>\n",
       "</table>\n",
       "</div>"
      ],
      "text/plain": [
       "       id   Class_1   Class_2   Class_3   Class_4\n",
       "0  100000  0.087178  0.615458  0.204304  0.093060\n",
       "1  100001  0.037108  0.792423  0.093687  0.076782\n",
       "2  100002  0.070228  0.664214  0.177875  0.087683\n",
       "3  100003  0.079456  0.534513  0.301497  0.084535\n",
       "4  100004  0.071710  0.626422  0.208744  0.093124"
      ]
     },
     "execution_count": 32,
     "metadata": {},
     "output_type": "execute_result"
    }
   ],
   "source": [
    "submission.head()"
   ]
  },
  {
   "cell_type": "code",
   "execution_count": 33,
   "id": "black-occupation",
   "metadata": {
    "execution": {
     "iopub.execute_input": "2021-06-30T15:05:03.296771Z",
     "iopub.status.busy": "2021-06-30T15:05:03.296092Z",
     "iopub.status.idle": "2021-06-30T15:05:03.644228Z",
     "shell.execute_reply": "2021-06-30T15:05:03.643656Z",
     "shell.execute_reply.started": "2021-06-30T15:03:04.739135Z"
    },
    "papermill": {
     "duration": 0.390087,
     "end_time": "2021-06-30T15:05:03.644427",
     "exception": false,
     "start_time": "2021-06-30T15:05:03.254340",
     "status": "completed"
    },
    "tags": []
   },
   "outputs": [],
   "source": [
    "submission.to_csv('submission.csv',index=False)"
   ]
  },
  {
   "cell_type": "code",
   "execution_count": 34,
   "id": "informative-improvement",
   "metadata": {
    "execution": {
     "iopub.execute_input": "2021-06-30T15:05:03.722149Z",
     "iopub.status.busy": "2021-06-30T15:05:03.721212Z",
     "iopub.status.idle": "2021-06-30T15:05:03.789187Z",
     "shell.execute_reply": "2021-06-30T15:05:03.788634Z",
     "shell.execute_reply.started": "2021-06-30T15:03:57.180293Z"
    },
    "papermill": {
     "duration": 0.109402,
     "end_time": "2021-06-30T15:05:03.789361",
     "exception": false,
     "start_time": "2021-06-30T15:05:03.679959",
     "status": "completed"
    },
    "tags": []
   },
   "outputs": [],
   "source": [
    "model.save_model('XGBoost_original.json')"
   ]
  },
  {
   "cell_type": "code",
   "execution_count": null,
   "id": "reduced-celebrity",
   "metadata": {
    "papermill": {
     "duration": 0.034966,
     "end_time": "2021-06-30T15:05:03.859135",
     "exception": false,
     "start_time": "2021-06-30T15:05:03.824169",
     "status": "completed"
    },
    "tags": []
   },
   "outputs": [],
   "source": []
  }
 ],
 "metadata": {
  "kernelspec": {
   "display_name": "Python 3",
   "language": "python",
   "name": "python3"
  },
  "language_info": {
   "codemirror_mode": {
    "name": "ipython",
    "version": 3
   },
   "file_extension": ".py",
   "mimetype": "text/x-python",
   "name": "python",
   "nbconvert_exporter": "python",
   "pygments_lexer": "ipython3",
   "version": "3.7.10"
  },
  "papermill": {
   "default_parameters": {},
   "duration": 41.635798,
   "end_time": "2021-06-30T15:05:04.605225",
   "environment_variables": {},
   "exception": null,
   "input_path": "__notebook__.ipynb",
   "output_path": "__notebook__.ipynb",
   "parameters": {},
   "start_time": "2021-06-30T15:04:22.969427",
   "version": "2.3.3"
  }
 },
 "nbformat": 4,
 "nbformat_minor": 5
}
