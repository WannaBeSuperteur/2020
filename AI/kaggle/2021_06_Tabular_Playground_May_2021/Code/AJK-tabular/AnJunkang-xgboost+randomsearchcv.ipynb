{
 "cells": [
  {
   "cell_type": "code",
   "execution_count": 1,
   "id": "unusual-exhaust",
   "metadata": {
    "papermill": {
     "duration": 0.045572,
     "end_time": "2021-06-30T15:04:31.354002",
     "exception": false,
     "start_time": "2021-06-30T15:04:31.308430",
     "status": "completed"
    },
    "tags": []
   },
   "outputs": [],
   "source": [
    "import pandas as pd\n",
    "import numpy as np\n",
    "from datetime import datetime\n",
    "from sklearn.model_selection import RandomizedSearchCV, GridSearchCV\n",
    "from sklearn.metrics import roc_auc_score\n",
    "from sklearn.model_selection import StratifiedKFold"
   ]
  },
  {
   "cell_type": "code",
   "execution_count": 2,
   "id": "moved-trance",
   "metadata": {
    "papermill": {
     "duration": 0.77749,
     "end_time": "2021-06-30T15:04:32.160444",
     "exception": false,
     "start_time": "2021-06-30T15:04:31.382954",
     "status": "completed"
    },
    "tags": []
   },
   "outputs": [],
   "source": [
    "test = pd.read_csv('test.csv')\n",
    "train = pd.read_csv('train.csv')\n",
    "submission = pd.read_csv('sample_submission.csv')"
   ]
  },
  {
   "cell_type": "code",
   "execution_count": 3,
   "id": "saved-chain",
   "metadata": {
    "papermill": {
     "duration": 0.056285,
     "end_time": "2021-06-30T15:04:32.359863",
     "exception": false,
     "start_time": "2021-06-30T15:04:32.303578",
     "status": "completed"
    },
    "tags": []
   },
   "outputs": [],
   "source": [
    "train= train.drop('id', axis=1)\n",
    "test = test.drop('id',axis=1)"
   ]
  },
  {
   "cell_type": "code",
   "execution_count": 4,
   "id": "informal-portugal",
   "metadata": {
    "papermill": {
     "duration": 0.965823,
     "end_time": "2021-06-30T15:04:33.430212",
     "exception": false,
     "start_time": "2021-06-30T15:04:32.464389",
     "status": "completed"
    },
    "tags": []
   },
   "outputs": [],
   "source": [
    "from sklearn.preprocessing import LabelEncoder"
   ]
  },
  {
   "cell_type": "code",
   "execution_count": 5,
   "id": "dress-sweet",
   "metadata": {
    "papermill": {
     "duration": 0.041714,
     "end_time": "2021-06-30T15:04:33.500619",
     "exception": false,
     "start_time": "2021-06-30T15:04:33.458905",
     "status": "completed"
    },
    "tags": []
   },
   "outputs": [],
   "source": [
    "encoder= LabelEncoder().fit(train['target'])"
   ]
  },
  {
   "cell_type": "code",
   "execution_count": 6,
   "id": "educational-piano",
   "metadata": {
    "papermill": {
     "duration": 0.067739,
     "end_time": "2021-06-30T15:04:33.671734",
     "exception": false,
     "start_time": "2021-06-30T15:04:33.603995",
     "status": "completed"
    },
    "tags": []
   },
   "outputs": [],
   "source": [
    "train['target'] = encoder.transform(train['target'])"
   ]
  },
  {
   "cell_type": "code",
   "execution_count": 7,
   "id": "dying-birthday",
   "metadata": {
    "papermill": {
     "duration": 0.086764,
     "end_time": "2021-06-30T15:04:33.856411",
     "exception": false,
     "start_time": "2021-06-30T15:04:33.769647",
     "status": "completed"
    },
    "tags": []
   },
   "outputs": [],
   "source": [
    "x = train.drop(['target'],axis=1)"
   ]
  },
  {
   "cell_type": "code",
   "execution_count": 8,
   "id": "medium-johnston",
   "metadata": {
    "papermill": {
     "duration": 0.03839,
     "end_time": "2021-06-30T15:04:33.924183",
     "exception": false,
     "start_time": "2021-06-30T15:04:33.885793",
     "status": "completed"
    },
    "tags": []
   },
   "outputs": [],
   "source": [
    "y = train['target']"
   ]
  },
  {
   "cell_type": "code",
   "execution_count": 9,
   "id": "further-waters",
   "metadata": {
    "papermill": {
     "duration": 0.05535,
     "end_time": "2021-06-30T15:04:34.008809",
     "exception": false,
     "start_time": "2021-06-30T15:04:33.953459",
     "status": "completed"
    },
    "tags": []
   },
   "outputs": [
    {
     "data": {
      "text/html": [
       "<div>\n",
       "<style scoped>\n",
       "    .dataframe tbody tr th:only-of-type {\n",
       "        vertical-align: middle;\n",
       "    }\n",
       "\n",
       "    .dataframe tbody tr th {\n",
       "        vertical-align: top;\n",
       "    }\n",
       "\n",
       "    .dataframe thead th {\n",
       "        text-align: right;\n",
       "    }\n",
       "</style>\n",
       "<table border=\"1\" class=\"dataframe\">\n",
       "  <thead>\n",
       "    <tr style=\"text-align: right;\">\n",
       "      <th></th>\n",
       "      <th>feature_0</th>\n",
       "      <th>feature_1</th>\n",
       "      <th>feature_2</th>\n",
       "      <th>feature_3</th>\n",
       "      <th>feature_4</th>\n",
       "      <th>feature_5</th>\n",
       "      <th>feature_6</th>\n",
       "      <th>feature_7</th>\n",
       "      <th>feature_8</th>\n",
       "      <th>feature_9</th>\n",
       "      <th>...</th>\n",
       "      <th>feature_40</th>\n",
       "      <th>feature_41</th>\n",
       "      <th>feature_42</th>\n",
       "      <th>feature_43</th>\n",
       "      <th>feature_44</th>\n",
       "      <th>feature_45</th>\n",
       "      <th>feature_46</th>\n",
       "      <th>feature_47</th>\n",
       "      <th>feature_48</th>\n",
       "      <th>feature_49</th>\n",
       "    </tr>\n",
       "  </thead>\n",
       "  <tbody>\n",
       "    <tr>\n",
       "      <th>0</th>\n",
       "      <td>0</td>\n",
       "      <td>0</td>\n",
       "      <td>1</td>\n",
       "      <td>0</td>\n",
       "      <td>1</td>\n",
       "      <td>0</td>\n",
       "      <td>0</td>\n",
       "      <td>0</td>\n",
       "      <td>0</td>\n",
       "      <td>0</td>\n",
       "      <td>...</td>\n",
       "      <td>3</td>\n",
       "      <td>0</td>\n",
       "      <td>0</td>\n",
       "      <td>21</td>\n",
       "      <td>0</td>\n",
       "      <td>0</td>\n",
       "      <td>0</td>\n",
       "      <td>0</td>\n",
       "      <td>0</td>\n",
       "      <td>0</td>\n",
       "    </tr>\n",
       "    <tr>\n",
       "      <th>1</th>\n",
       "      <td>0</td>\n",
       "      <td>0</td>\n",
       "      <td>0</td>\n",
       "      <td>0</td>\n",
       "      <td>2</td>\n",
       "      <td>1</td>\n",
       "      <td>0</td>\n",
       "      <td>0</td>\n",
       "      <td>0</td>\n",
       "      <td>0</td>\n",
       "      <td>...</td>\n",
       "      <td>0</td>\n",
       "      <td>0</td>\n",
       "      <td>0</td>\n",
       "      <td>0</td>\n",
       "      <td>0</td>\n",
       "      <td>0</td>\n",
       "      <td>0</td>\n",
       "      <td>0</td>\n",
       "      <td>0</td>\n",
       "      <td>0</td>\n",
       "    </tr>\n",
       "    <tr>\n",
       "      <th>2</th>\n",
       "      <td>0</td>\n",
       "      <td>0</td>\n",
       "      <td>0</td>\n",
       "      <td>0</td>\n",
       "      <td>0</td>\n",
       "      <td>0</td>\n",
       "      <td>0</td>\n",
       "      <td>0</td>\n",
       "      <td>0</td>\n",
       "      <td>2</td>\n",
       "      <td>...</td>\n",
       "      <td>0</td>\n",
       "      <td>0</td>\n",
       "      <td>1</td>\n",
       "      <td>0</td>\n",
       "      <td>0</td>\n",
       "      <td>0</td>\n",
       "      <td>0</td>\n",
       "      <td>13</td>\n",
       "      <td>2</td>\n",
       "      <td>0</td>\n",
       "    </tr>\n",
       "  </tbody>\n",
       "</table>\n",
       "<p>3 rows × 50 columns</p>\n",
       "</div>"
      ],
      "text/plain": [
       "   feature_0  feature_1  feature_2  feature_3  feature_4  feature_5  \\\n",
       "0          0          0          1          0          1          0   \n",
       "1          0          0          0          0          2          1   \n",
       "2          0          0          0          0          0          0   \n",
       "\n",
       "   feature_6  feature_7  feature_8  feature_9  ...  feature_40  feature_41  \\\n",
       "0          0          0          0          0  ...           3           0   \n",
       "1          0          0          0          0  ...           0           0   \n",
       "2          0          0          0          2  ...           0           0   \n",
       "\n",
       "   feature_42  feature_43  feature_44  feature_45  feature_46  feature_47  \\\n",
       "0           0          21           0           0           0           0   \n",
       "1           0           0           0           0           0           0   \n",
       "2           1           0           0           0           0          13   \n",
       "\n",
       "   feature_48  feature_49  \n",
       "0           0           0  \n",
       "1           0           0  \n",
       "2           2           0  \n",
       "\n",
       "[3 rows x 50 columns]"
      ]
     },
     "execution_count": 9,
     "metadata": {},
     "output_type": "execute_result"
    }
   ],
   "source": [
    "x.head(3)"
   ]
  },
  {
   "cell_type": "code",
   "execution_count": 10,
   "id": "divine-government",
   "metadata": {
    "papermill": {
     "duration": 0.040641,
     "end_time": "2021-06-30T15:04:34.079730",
     "exception": false,
     "start_time": "2021-06-30T15:04:34.039089",
     "status": "completed"
    },
    "tags": []
   },
   "outputs": [
    {
     "data": {
      "text/plain": [
       "0    1\n",
       "1    0\n",
       "2    0\n",
       "Name: target, dtype: int64"
      ]
     },
     "execution_count": 10,
     "metadata": {},
     "output_type": "execute_result"
    }
   ],
   "source": [
    "y.head(3)"
   ]
  },
  {
   "cell_type": "code",
   "execution_count": 11,
   "id": "21ba66b1-0c9d-4453-9042-5009b0171f26",
   "metadata": {},
   "outputs": [],
   "source": [
    "def timer(start_time=None):\n",
    "    if not start_time:\n",
    "        start_time = datetime.now()\n",
    "        return start_time\n",
    "    elif start_time:\n",
    "        thour, temp_sec = divmod((datetime.now() - start_time).total_seconds(), 3600)\n",
    "        tmin, tsec = divmod(temp_sec, 60)\n",
    "        print('\\n Time taken: %i hours %i minutes and %s seconds.' % (thour, tmin, round(tsec, 2)))"
   ]
  },
  {
   "cell_type": "code",
   "execution_count": 12,
   "id": "4a3824ef-a8db-4742-81b2-b943c4426b17",
   "metadata": {},
   "outputs": [],
   "source": [
    "# A parameter grid for XGBoost\n",
    "params = {\n",
    "        'min_child_weight': [1, 3, 5, 7],\n",
    "        'gamma': [0, 0.05, 0.06, 0.07, 0.08, 0.09, 0.1, 0.3, 0.5, 0.7, 0.9, 1],\n",
    "        'subsample': [0.6, 0.7, 0.8, 0.9, 1],\n",
    "        'colsample_bytree': [0.6, 0.7, 0.8, 0.9, 1],\n",
    "        'max_depth': [3, 5, 6, 7, 9, 12, 15, 17, 25],\n",
    "    'learning_rate': [0.01, 0.015, 0.025, 0.05, 0.1]\n",
    "        }"
   ]
  },
  {
   "cell_type": "code",
   "execution_count": 13,
   "id": "5e14303f-a5bc-48f4-b996-a38e2c22bda0",
   "metadata": {},
   "outputs": [],
   "source": [
    "import xgboost\n",
    "from xgboost import XGBClassifier\n",
    "from sklearn.model_selection import train_test_split\n",
    "from sklearn.metrics import accuracy_score"
   ]
  },
  {
   "cell_type": "code",
   "execution_count": 14,
   "id": "657d58b9-28b5-4384-a583-e2994babb0dd",
   "metadata": {},
   "outputs": [],
   "source": [
    "X_train,X_test,y_train,y_test = train_test_split(x,y,test_size=0.2,random_state=1997)"
   ]
  },
  {
   "cell_type": "code",
   "execution_count": 15,
   "id": "d421cd0b-353c-4d0d-aefc-a370829c2503",
   "metadata": {},
   "outputs": [
    {
     "name": "stdout",
     "output_type": "stream",
     "text": [
      "(80000, 50) (80000,) (20000, 50) (20000,)\n"
     ]
    }
   ],
   "source": [
    "print(X_train.shape,y_train.shape,X_test.shape,y_test.shape)"
   ]
  },
  {
   "cell_type": "code",
   "execution_count": 16,
   "id": "d779e955-f4d9-48c1-b85e-9618c9171058",
   "metadata": {},
   "outputs": [],
   "source": [
    "model = XGBClassifier(\n",
    "                      num_class=4, \n",
    "                      objective='multi:softprob',\n",
    "                      tree_method='gpu_hist',\n",
    "                      n_estimators=600,\n",
    "                      use_label_encoder =False,\n",
    "                      eval_metric='mlogloss')\n",
    "                      #predictor='gpu_predictor')"
   ]
  },
  {
   "cell_type": "code",
   "execution_count": 17,
   "id": "24b4a39d-ddeb-4bf9-b717-aae908195df6",
   "metadata": {
    "papermill": {
     "duration": 0.039232,
     "end_time": "2021-06-30T15:04:34.625848",
     "exception": false,
     "start_time": "2021-06-30T15:04:34.586616",
     "status": "completed"
    },
    "tags": []
   },
   "outputs": [
    {
     "name": "stdout",
     "output_type": "stream",
     "text": [
      "XGBClassifier(base_score=None, booster=None, colsample_bylevel=None,\n",
      "              colsample_bynode=None, colsample_bytree=None,\n",
      "              eval_metric='mlogloss', gamma=None, gpu_id=None,\n",
      "              importance_type='gain', interaction_constraints=None,\n",
      "              learning_rate=None, max_delta_step=None, max_depth=None,\n",
      "              min_child_weight=None, missing=nan, monotone_constraints=None,\n",
      "              n_estimators=600, n_jobs=None, num_class=4,\n",
      "              num_parallel_tree=None, objective='multi:softprob',\n",
      "              random_state=None, reg_alpha=None, reg_lambda=None,\n",
      "              scale_pos_weight=None, subsample=None, tree_method='gpu_hist',\n",
      "              use_label_encoder=False, validate_parameters=None,\n",
      "              verbosity=None)\n"
     ]
    }
   ],
   "source": [
    "print(model)"
   ]
  },
  {
   "cell_type": "code",
   "execution_count": 18,
   "id": "53d948f1-0aae-449b-a91a-8ccac21b12ca",
   "metadata": {
    "papermill": {
     "duration": 0.039232,
     "end_time": "2021-06-30T15:04:34.625848",
     "exception": false,
     "start_time": "2021-06-30T15:04:34.586616",
     "status": "completed"
    },
    "tags": []
   },
   "outputs": [
    {
     "name": "stdout",
     "output_type": "stream",
     "text": [
      "Fitting 3 folds for each of 5 candidates, totalling 15 fits\n",
      "\n",
      " Time taken: 0 hours 6 minutes and 51.53 seconds.\n",
      "\n",
      " Randomsearch Best hyperparameters:\n",
      "{'subsample': 0.6, 'min_child_weight': 7, 'max_depth': 6, 'learning_rate': 0.05, 'gamma': 0, 'colsample_bytree': 0.9}\n"
     ]
    }
   ],
   "source": [
    "param_comb=5\n",
    "folds=3\n",
    "from datetime import datetime\n",
    "from sklearn.model_selection import RandomizedSearchCV, GridSearchCV\n",
    "from sklearn.metrics import roc_auc_score\n",
    "from sklearn.model_selection import StratifiedKFold\n",
    "\n",
    "skf = StratifiedKFold(n_splits=folds, shuffle = True, random_state = 1997)\n",
    "random_search = RandomizedSearchCV(model, param_distributions=params, n_iter=param_comb, n_jobs=16, cv=skf.split(x,y), verbose=3, random_state=1001 )\n",
    "# Here we go\n",
    "start_time = timer(None) # timing starts from this point for \"start_time\" variable\n",
    "random_search.fit(x, y)\n",
    "timer(start_time) # timing ends here for \"start_time\" variable\n",
    "#print('\\n All results:')\n",
    "#print(random_search.cv_results_)\n",
    "#print('\\n Randomsearch Best estimator:')\n",
    "#print(random_search.best_estimator_)\n",
    "#print('\\n Randomsearch Best normalized gini score for %d-fold search with %d parameter combinations:' % (folds, param_comb))\n",
    "#print(random_search.best_score_ * 2 - 1)\n",
    "print('\\n Randomsearch Best hyperparameters:')\n",
    "print(random_search.best_params_)\n",
    "results = pd.DataFrame(random_search.cv_results_)\n",
    "results.to_csv('random-grid-search-{}folds.csv'.format(folds), index=False)\n",
    "\n",
    "random_search = random_search.best_estimator_\n",
    "test_y = random_search.predict_proba(test)\n",
    "index = submission.columns.values.tolist()\n",
    "random_submission = pd.DataFrame(test_y,columns = index[1:5])\n",
    "random_submission['id'] = submission['id']\n",
    "submission = random_submission[['id','Class_1','Class_2','Class_3','Class_4']]\n",
    "submission.to_csv('submission{}.csv'.format(folds),index=False)\n"
   ]
  },
  {
   "cell_type": "code",
   "execution_count": 19,
   "id": "b86444d4-ebc2-4654-9878-f83bf1cfee79",
   "metadata": {},
   "outputs": [
    {
     "name": "stdout",
     "output_type": "stream",
     "text": [
      "Fitting 4 folds for each of 5 candidates, totalling 20 fits\n",
      "\n",
      " Time taken: 0 hours 9 minutes and 5.13 seconds.\n",
      "\n",
      " Randomsearch Best hyperparameters:\n",
      "{'subsample': 0.6, 'min_child_weight': 7, 'max_depth': 6, 'learning_rate': 0.05, 'gamma': 0, 'colsample_bytree': 0.9}\n"
     ]
    }
   ],
   "source": [
    "param_comb=5\n",
    "folds=4\n",
    "from datetime import datetime\n",
    "from sklearn.model_selection import RandomizedSearchCV, GridSearchCV\n",
    "from sklearn.metrics import roc_auc_score\n",
    "from sklearn.model_selection import StratifiedKFold\n",
    "\n",
    "skf = StratifiedKFold(n_splits=folds, shuffle = True, random_state = 1997)\n",
    "random_search = RandomizedSearchCV(model, param_distributions=params, n_iter=param_comb, n_jobs=16, cv=skf.split(x,y), verbose=3, random_state=1001 )\n",
    "# Here we go\n",
    "start_time = timer(None) # timing starts from this point for \"start_time\" variable\n",
    "random_search.fit(x, y)\n",
    "timer(start_time) # timing ends here for \"start_time\" variable\n",
    "#print('\\n All results:')\n",
    "#print(random_search.cv_results_)\n",
    "#print('\\n Randomsearch Best estimator:')\n",
    "#print(random_search.best_estimator_)\n",
    "#print('\\n Randomsearch Best normalized gini score for %d-fold search with %d parameter combinations:' % (folds, param_comb))\n",
    "#print(random_search.best_score_ * 2 - 1)\n",
    "print('\\n Randomsearch Best hyperparameters:')\n",
    "print(random_search.best_params_)\n",
    "results = pd.DataFrame(random_search.cv_results_)\n",
    "results.to_csv('random-grid-search-{}folds.csv'.format(folds), index=False)\n",
    "\n",
    "random_search = random_search.best_estimator_\n",
    "test_y = random_search.predict_proba(test)\n",
    "index = submission.columns.values.tolist()\n",
    "random_submission = pd.DataFrame(test_y,columns = index[1:5])\n",
    "random_submission['id'] = submission['id']\n",
    "submission = random_submission[['id','Class_1','Class_2','Class_3','Class_4']]\n",
    "submission.to_csv('submission{}.csv'.format(folds),index=False)"
   ]
  },
  {
   "cell_type": "code",
   "execution_count": 20,
   "id": "38a512f0-9061-4ee8-8ab3-0b800aa3fb2a",
   "metadata": {},
   "outputs": [
    {
     "name": "stdout",
     "output_type": "stream",
     "text": [
      "Fitting 5 folds for each of 5 candidates, totalling 25 fits\n",
      "\n",
      " Time taken: 0 hours 11 minutes and 47.11 seconds.\n",
      "\n",
      " Randomsearch Best hyperparameters:\n",
      "{'subsample': 0.6, 'min_child_weight': 7, 'max_depth': 6, 'learning_rate': 0.05, 'gamma': 0, 'colsample_bytree': 0.9}\n"
     ]
    }
   ],
   "source": [
    "param_comb=5\n",
    "folds=5\n",
    "from datetime import datetime\n",
    "from sklearn.model_selection import RandomizedSearchCV, GridSearchCV\n",
    "from sklearn.metrics import roc_auc_score\n",
    "from sklearn.model_selection import StratifiedKFold\n",
    "\n",
    "skf = StratifiedKFold(n_splits=folds, shuffle = True, random_state = 1997)\n",
    "random_search = RandomizedSearchCV(model, param_distributions=params, n_iter=param_comb, n_jobs=16, cv=skf.split(x,y), verbose=3, random_state=1001 )\n",
    "# Here we go\n",
    "start_time = timer(None) # timing starts from this point for \"start_time\" variable\n",
    "random_search.fit(x, y)\n",
    "timer(start_time) # timing ends here for \"start_time\" variable\n",
    "#print('\\n All results:')\n",
    "#print(random_search.cv_results_)\n",
    "#print('\\n Randomsearch Best estimator:')\n",
    "#print(random_search.best_estimator_)\n",
    "#print('\\n Randomsearch Best normalized gini score for %d-fold search with %d parameter combinations:' % (folds, param_comb))\n",
    "#print(random_search.best_score_ * 2 - 1)\n",
    "print('\\n Randomsearch Best hyperparameters:')\n",
    "print(random_search.best_params_)\n",
    "results = pd.DataFrame(random_search.cv_results_)\n",
    "results.to_csv('random-grid-search-{}folds.csv'.format(folds), index=False)\n",
    "\n",
    "random_search = random_search.best_estimator_\n",
    "test_y = random_search.predict_proba(test)\n",
    "index = submission.columns.values.tolist()\n",
    "random_submission = pd.DataFrame(test_y,columns = index[1:5])\n",
    "random_submission['id'] = submission['id']\n",
    "submission = random_submission[['id','Class_1','Class_2','Class_3','Class_4']]\n",
    "submission.to_csv('submission{}.csv'.format(folds),index=False)"
   ]
  },
  {
   "cell_type": "code",
   "execution_count": 22,
   "id": "4797409a-e79f-4c7f-91e9-1fb11520b564",
   "metadata": {
    "papermill": {
     "duration": 0.039232,
     "end_time": "2021-06-30T15:04:34.625848",
     "exception": false,
     "start_time": "2021-06-30T15:04:34.586616",
     "status": "completed"
    },
    "tags": []
   },
   "outputs": [
    {
     "ename": "IndentationError",
     "evalue": "unexpected indent (<ipython-input-22-6d1f23e4e361>, line 2)",
     "output_type": "error",
     "traceback": [
      "\u001b[0;36m  File \u001b[0;32m\"<ipython-input-22-6d1f23e4e361>\"\u001b[0;36m, line \u001b[0;32m2\u001b[0m\n\u001b[0;31m    skf = StratifiedKFold(n_splits=folds, shuffle = True, random_state = 1997)\u001b[0m\n\u001b[0m    ^\u001b[0m\n\u001b[0;31mIndentationError\u001b[0m\u001b[0;31m:\u001b[0m unexpected indent\n"
     ]
    }
   ],
   "source": [
    "\n",
    "folds=5\n",
    "skf = StratifiedKFold(n_splits=folds, shuffle = True, random_state = 1997) \n",
    "grid = GridSearchCV(estimator=model, param_grid=params, n_jobs=16, cv=skf.split(x,y), verbose=3 )\n",
    "grid.fit(x, y)\n",
    "#print('\\n All results:')\n",
    "#print(grid.cv_results_)\n",
    "#print('\\n Grid Best estimator:')\n",
    "#print(grid.best_estimator_)\n",
    "#print('\\n Grid Best score:')\n",
    "#print(grid.best_score_ * 2 - 1)\n",
    "print('\\n Grid Best parameters:')\n",
    "print(grid.best_params_)\n",
    "gresults = pd.DataFrame(grid.cv_results_)\n",
    "gresults.to_csv('Grid-search-folds{}.csv'.format(folds), index=False)\n",
    "\n",
    "grid = grid.best_estimator_\n",
    "test_y_grid = grid.predict_proba(test)\n",
    "index = submission.columns.values.tolist()\n",
    "grid_submission = pd.DataFrame(test_y_grid,columns = index[1:5])\n",
    "grid_submission['id'] = submission['id']\n",
    "submission2 = grid_submission[['id','Class_1','Class_2','Class_3','Class_4']]\n",
    "submission2.to_csv('Gsubmission{}.csv'.foramt(folds),index=False)"
   ]
  },
  {
   "cell_type": "code",
   "execution_count": null,
   "id": "9cc9e2f8-ad9e-47e4-9ecf-230e8a6a9d17",
   "metadata": {},
   "outputs": [],
   "source": []
  }
 ],
 "metadata": {
  "kernelspec": {
   "display_name": "Python 3",
   "language": "python",
   "name": "python3"
  },
  "language_info": {
   "codemirror_mode": {
    "name": "ipython",
    "version": 3
   },
   "file_extension": ".py",
   "mimetype": "text/x-python",
   "name": "python",
   "nbconvert_exporter": "python",
   "pygments_lexer": "ipython3",
   "version": "3.8.10"
  },
  "papermill": {
   "default_parameters": {},
   "duration": 41.635798,
   "end_time": "2021-06-30T15:05:04.605225",
   "environment_variables": {},
   "exception": null,
   "input_path": "__notebook__.ipynb",
   "output_path": "__notebook__.ipynb",
   "parameters": {},
   "start_time": "2021-06-30T15:04:22.969427",
   "version": "2.3.3"
  }
 },
 "nbformat": 4,
 "nbformat_minor": 5
}
