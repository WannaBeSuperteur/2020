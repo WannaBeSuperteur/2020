{
 "cells": [
  {
   "cell_type": "code",
   "execution_count": 1,
   "id": "perfect-continuity",
   "metadata": {
    "_cell_guid": "b1076dfc-b9ad-4769-8c92-a6c4dae69d19",
    "_uuid": "8f2839f25d086af736a60e9eeb907d3b93b6e0e5",
    "execution": {
     "iopub.execute_input": "2021-06-25T02:06:38.366235Z",
     "iopub.status.busy": "2021-06-25T02:06:38.365580Z",
     "iopub.status.idle": "2021-06-25T02:06:40.240768Z",
     "shell.execute_reply": "2021-06-25T02:06:40.240140Z",
     "shell.execute_reply.started": "2021-06-25T01:55:27.088703Z"
    },
    "papermill": {
     "duration": 1.899334,
     "end_time": "2021-06-25T02:06:40.240919",
     "exception": false,
     "start_time": "2021-06-25T02:06:38.341585",
     "status": "completed"
    },
    "tags": []
   },
   "outputs": [],
   "source": [
    "## Imports\n",
    "import torch\n",
    "import torch.nn as nn\n",
    "import pandas as pd\n",
    "import numpy as np\n",
    "import matplotlib.pyplot as plt\n",
    "from sklearn import preprocessing\n",
    "from sklearn.model_selection import train_test_split\n",
    "from torch.utils.data import DataLoader\n",
    "from torch.utils.data import Dataset\n",
    "from torch.optim.lr_scheduler import ReduceLROnPlateau"
   ]
  },
  {
   "cell_type": "code",
   "execution_count": 2,
   "id": "amended-economy",
   "metadata": {
    "execution": {
     "iopub.execute_input": "2021-06-25T02:06:40.269921Z",
     "iopub.status.busy": "2021-06-25T02:06:40.269230Z",
     "iopub.status.idle": "2021-06-25T02:06:40.271978Z",
     "shell.execute_reply": "2021-06-25T02:06:40.271595Z",
     "shell.execute_reply.started": "2021-06-25T01:55:29.061542Z"
    },
    "papermill": {
     "duration": 0.018213,
     "end_time": "2021-06-25T02:06:40.272080",
     "exception": false,
     "start_time": "2021-06-25T02:06:40.253867",
     "status": "completed"
    },
    "tags": []
   },
   "outputs": [],
   "source": [
    "## Constants\n",
    "dir = '../input/tabular-playground-series-may-2021'"
   ]
  },
  {
   "cell_type": "code",
   "execution_count": 3,
   "id": "arbitrary-poverty",
   "metadata": {
    "execution": {
     "iopub.execute_input": "2021-06-25T02:06:40.306949Z",
     "iopub.status.busy": "2021-06-25T02:06:40.306448Z",
     "iopub.status.idle": "2021-06-25T02:06:40.902369Z",
     "shell.execute_reply": "2021-06-25T02:06:40.901874Z",
     "shell.execute_reply.started": "2021-06-25T01:55:29.068583Z"
    },
    "papermill": {
     "duration": 0.61747,
     "end_time": "2021-06-25T02:06:40.902498",
     "exception": false,
     "start_time": "2021-06-25T02:06:40.285028",
     "status": "completed"
    },
    "tags": []
   },
   "outputs": [
    {
     "name": "stdout",
     "output_type": "stream",
     "text": [
      "(100000, 51)\n",
      "(50000, 50)\n"
     ]
    },
    {
     "data": {
      "text/html": [
       "<div>\n",
       "<style scoped>\n",
       "    .dataframe tbody tr th:only-of-type {\n",
       "        vertical-align: middle;\n",
       "    }\n",
       "\n",
       "    .dataframe tbody tr th {\n",
       "        vertical-align: top;\n",
       "    }\n",
       "\n",
       "    .dataframe thead th {\n",
       "        text-align: right;\n",
       "    }\n",
       "</style>\n",
       "<table border=\"1\" class=\"dataframe\">\n",
       "  <thead>\n",
       "    <tr style=\"text-align: right;\">\n",
       "      <th></th>\n",
       "      <th>feature_0</th>\n",
       "      <th>feature_1</th>\n",
       "      <th>feature_2</th>\n",
       "      <th>feature_3</th>\n",
       "      <th>feature_4</th>\n",
       "      <th>feature_5</th>\n",
       "      <th>feature_6</th>\n",
       "      <th>feature_7</th>\n",
       "      <th>feature_8</th>\n",
       "      <th>feature_9</th>\n",
       "      <th>...</th>\n",
       "      <th>feature_41</th>\n",
       "      <th>feature_42</th>\n",
       "      <th>feature_43</th>\n",
       "      <th>feature_44</th>\n",
       "      <th>feature_45</th>\n",
       "      <th>feature_46</th>\n",
       "      <th>feature_47</th>\n",
       "      <th>feature_48</th>\n",
       "      <th>feature_49</th>\n",
       "      <th>target</th>\n",
       "    </tr>\n",
       "    <tr>\n",
       "      <th>id</th>\n",
       "      <th></th>\n",
       "      <th></th>\n",
       "      <th></th>\n",
       "      <th></th>\n",
       "      <th></th>\n",
       "      <th></th>\n",
       "      <th></th>\n",
       "      <th></th>\n",
       "      <th></th>\n",
       "      <th></th>\n",
       "      <th></th>\n",
       "      <th></th>\n",
       "      <th></th>\n",
       "      <th></th>\n",
       "      <th></th>\n",
       "      <th></th>\n",
       "      <th></th>\n",
       "      <th></th>\n",
       "      <th></th>\n",
       "      <th></th>\n",
       "      <th></th>\n",
       "    </tr>\n",
       "  </thead>\n",
       "  <tbody>\n",
       "    <tr>\n",
       "      <th>0</th>\n",
       "      <td>0</td>\n",
       "      <td>0</td>\n",
       "      <td>1</td>\n",
       "      <td>0</td>\n",
       "      <td>1</td>\n",
       "      <td>0</td>\n",
       "      <td>0</td>\n",
       "      <td>0</td>\n",
       "      <td>0</td>\n",
       "      <td>0</td>\n",
       "      <td>...</td>\n",
       "      <td>0</td>\n",
       "      <td>0</td>\n",
       "      <td>21</td>\n",
       "      <td>0</td>\n",
       "      <td>0</td>\n",
       "      <td>0</td>\n",
       "      <td>0</td>\n",
       "      <td>0</td>\n",
       "      <td>0</td>\n",
       "      <td>Class_2</td>\n",
       "    </tr>\n",
       "    <tr>\n",
       "      <th>1</th>\n",
       "      <td>0</td>\n",
       "      <td>0</td>\n",
       "      <td>0</td>\n",
       "      <td>0</td>\n",
       "      <td>2</td>\n",
       "      <td>1</td>\n",
       "      <td>0</td>\n",
       "      <td>0</td>\n",
       "      <td>0</td>\n",
       "      <td>0</td>\n",
       "      <td>...</td>\n",
       "      <td>0</td>\n",
       "      <td>0</td>\n",
       "      <td>0</td>\n",
       "      <td>0</td>\n",
       "      <td>0</td>\n",
       "      <td>0</td>\n",
       "      <td>0</td>\n",
       "      <td>0</td>\n",
       "      <td>0</td>\n",
       "      <td>Class_1</td>\n",
       "    </tr>\n",
       "    <tr>\n",
       "      <th>2</th>\n",
       "      <td>0</td>\n",
       "      <td>0</td>\n",
       "      <td>0</td>\n",
       "      <td>0</td>\n",
       "      <td>0</td>\n",
       "      <td>0</td>\n",
       "      <td>0</td>\n",
       "      <td>0</td>\n",
       "      <td>0</td>\n",
       "      <td>2</td>\n",
       "      <td>...</td>\n",
       "      <td>0</td>\n",
       "      <td>1</td>\n",
       "      <td>0</td>\n",
       "      <td>0</td>\n",
       "      <td>0</td>\n",
       "      <td>0</td>\n",
       "      <td>13</td>\n",
       "      <td>2</td>\n",
       "      <td>0</td>\n",
       "      <td>Class_1</td>\n",
       "    </tr>\n",
       "    <tr>\n",
       "      <th>3</th>\n",
       "      <td>0</td>\n",
       "      <td>0</td>\n",
       "      <td>0</td>\n",
       "      <td>0</td>\n",
       "      <td>0</td>\n",
       "      <td>0</td>\n",
       "      <td>0</td>\n",
       "      <td>3</td>\n",
       "      <td>0</td>\n",
       "      <td>0</td>\n",
       "      <td>...</td>\n",
       "      <td>0</td>\n",
       "      <td>0</td>\n",
       "      <td>0</td>\n",
       "      <td>0</td>\n",
       "      <td>0</td>\n",
       "      <td>0</td>\n",
       "      <td>0</td>\n",
       "      <td>1</td>\n",
       "      <td>0</td>\n",
       "      <td>Class_4</td>\n",
       "    </tr>\n",
       "    <tr>\n",
       "      <th>4</th>\n",
       "      <td>0</td>\n",
       "      <td>0</td>\n",
       "      <td>0</td>\n",
       "      <td>0</td>\n",
       "      <td>0</td>\n",
       "      <td>0</td>\n",
       "      <td>0</td>\n",
       "      <td>0</td>\n",
       "      <td>0</td>\n",
       "      <td>0</td>\n",
       "      <td>...</td>\n",
       "      <td>0</td>\n",
       "      <td>0</td>\n",
       "      <td>0</td>\n",
       "      <td>0</td>\n",
       "      <td>0</td>\n",
       "      <td>0</td>\n",
       "      <td>0</td>\n",
       "      <td>1</td>\n",
       "      <td>0</td>\n",
       "      <td>Class_2</td>\n",
       "    </tr>\n",
       "  </tbody>\n",
       "</table>\n",
       "<p>5 rows × 51 columns</p>\n",
       "</div>"
      ],
      "text/plain": [
       "    feature_0  feature_1  feature_2  feature_3  feature_4  feature_5  \\\n",
       "id                                                                     \n",
       "0           0          0          1          0          1          0   \n",
       "1           0          0          0          0          2          1   \n",
       "2           0          0          0          0          0          0   \n",
       "3           0          0          0          0          0          0   \n",
       "4           0          0          0          0          0          0   \n",
       "\n",
       "    feature_6  feature_7  feature_8  feature_9  ...  feature_41  feature_42  \\\n",
       "id                                              ...                           \n",
       "0           0          0          0          0  ...           0           0   \n",
       "1           0          0          0          0  ...           0           0   \n",
       "2           0          0          0          2  ...           0           1   \n",
       "3           0          3          0          0  ...           0           0   \n",
       "4           0          0          0          0  ...           0           0   \n",
       "\n",
       "    feature_43  feature_44  feature_45  feature_46  feature_47  feature_48  \\\n",
       "id                                                                           \n",
       "0           21           0           0           0           0           0   \n",
       "1            0           0           0           0           0           0   \n",
       "2            0           0           0           0          13           2   \n",
       "3            0           0           0           0           0           1   \n",
       "4            0           0           0           0           0           1   \n",
       "\n",
       "    feature_49   target  \n",
       "id                       \n",
       "0            0  Class_2  \n",
       "1            0  Class_1  \n",
       "2            0  Class_1  \n",
       "3            0  Class_4  \n",
       "4            0  Class_2  \n",
       "\n",
       "[5 rows x 51 columns]"
      ]
     },
     "execution_count": 3,
     "metadata": {},
     "output_type": "execute_result"
    }
   ],
   "source": [
    "train = pd.read_csv('../input/tabular-playground-series-may-2021/train.csv', index_col='id')\n",
    "print(train.shape)\n",
    "test = pd.read_csv('../input/tabular-playground-series-may-2021/test.csv', index_col='id')\n",
    "print(test.shape)\n",
    "sample_submission = pd.read_csv('../input/tabular-playground-series-may-2021/sample_submission.csv')\n",
    "train.head()"
   ]
  },
  {
   "cell_type": "code",
   "execution_count": 4,
   "id": "realistic-compensation",
   "metadata": {
    "execution": {
     "iopub.execute_input": "2021-06-25T02:06:40.963014Z",
     "iopub.status.busy": "2021-06-25T02:06:40.962023Z",
     "iopub.status.idle": "2021-06-25T02:06:41.240373Z",
     "shell.execute_reply": "2021-06-25T02:06:41.239732Z",
     "shell.execute_reply.started": "2021-06-25T01:55:29.764163Z"
    },
    "papermill": {
     "duration": 0.324145,
     "end_time": "2021-06-25T02:06:41.240528",
     "exception": false,
     "start_time": "2021-06-25T02:06:40.916383",
     "status": "completed"
    },
    "tags": []
   },
   "outputs": [
    {
     "name": "stdout",
     "output_type": "stream",
     "text": [
      "(99996, 50) (99996, 1) (50000, 50)\n"
     ]
    }
   ],
   "source": [
    "## Preprocessing\n",
    "X = train.drop(['target'], axis=1)\n",
    "y = train.target\n",
    "\n",
    "## Remove duplicate rows in training data\n",
    "duplicated_rows = train[train.drop(['target'], axis=1).duplicated()]\n",
    "y = y.drop(duplicated_rows.index.tolist())\n",
    "X = X.drop_duplicates(keep='first')\n",
    "\n",
    "le = preprocessing.LabelEncoder()\n",
    "y = pd.DataFrame(le.fit_transform(y), columns=['target'])\n",
    "\n",
    "# Noramlize data\n",
    "# scaler = preprocessing.MinMaxScaler()\n",
    "# X_norm = scaler.fit_transform(X)\n",
    "# test_norm = scaler.transform(test.drop('id', axis=1))\n",
    "\n",
    "print(X.shape, y.shape,test.shape)"
   ]
  },
  {
   "cell_type": "code",
   "execution_count": 5,
   "id": "coordinated-olympus",
   "metadata": {
    "execution": {
     "iopub.execute_input": "2021-06-25T02:06:41.308200Z",
     "iopub.status.busy": "2021-06-25T02:06:41.289910Z",
     "iopub.status.idle": "2021-06-25T02:06:42.057485Z",
     "shell.execute_reply": "2021-06-25T02:06:42.056586Z",
     "shell.execute_reply.started": "2021-06-25T01:55:29.988141Z"
    },
    "papermill": {
     "duration": 0.802531,
     "end_time": "2021-06-25T02:06:42.057630",
     "exception": false,
     "start_time": "2021-06-25T02:06:41.255099",
     "status": "completed"
    },
    "tags": []
   },
   "outputs": [],
   "source": [
    "## Split the data\n",
    "X_train, X_valid, y_train, y_valid = train_test_split(X, y, test_size=0.2, shuffle=True, stratify=y)"
   ]
  },
  {
   "cell_type": "code",
   "execution_count": 6,
   "id": "endless-animation",
   "metadata": {
    "execution": {
     "iopub.execute_input": "2021-06-25T02:06:42.091527Z",
     "iopub.status.busy": "2021-06-25T02:06:42.090706Z",
     "iopub.status.idle": "2021-06-25T02:06:42.107129Z",
     "shell.execute_reply": "2021-06-25T02:06:42.107719Z",
     "shell.execute_reply.started": "2021-06-25T01:55:30.599183Z"
    },
    "papermill": {
     "duration": 0.035369,
     "end_time": "2021-06-25T02:06:42.107901",
     "exception": false,
     "start_time": "2021-06-25T02:06:42.072532",
     "status": "completed"
    },
    "tags": []
   },
   "outputs": [
    {
     "name": "stdout",
     "output_type": "stream",
     "text": [
      "(79996, 50) (79996,) (20000, 50) (20000,)\n"
     ]
    }
   ],
   "source": [
    "## Split the normalized data\n",
    "# X_train, X_test, y_train, y_test = train_test_split(X_norm, y, test_size=0.2, shuffle=True, stratify=y)\n",
    "X_train, y_train = np.array(X_train, dtype=np.float32), y_train['target'].values \n",
    "X_valid, y_valid = np.array(X_valid, dtype=np.float32), y_valid['target'].values\n",
    "print(X_train.shape, y_train.shape, X_valid.shape, y_valid.shape)"
   ]
  },
  {
   "cell_type": "code",
   "execution_count": 7,
   "id": "documentary-leisure",
   "metadata": {
    "execution": {
     "iopub.execute_input": "2021-06-25T02:06:42.140522Z",
     "iopub.status.busy": "2021-06-25T02:06:42.139677Z",
     "iopub.status.idle": "2021-06-25T02:06:42.149833Z",
     "shell.execute_reply": "2021-06-25T02:06:42.149412Z",
     "shell.execute_reply.started": "2021-06-25T01:55:30.621770Z"
    },
    "papermill": {
     "duration": 0.027425,
     "end_time": "2021-06-25T02:06:42.149943",
     "exception": false,
     "start_time": "2021-06-25T02:06:42.122518",
     "status": "completed"
    },
    "tags": []
   },
   "outputs": [
    {
     "name": "stdout",
     "output_type": "stream",
     "text": [
      "(50000, 50)\n"
     ]
    }
   ],
   "source": [
    "test = np.array(test,dtype=np.float32)\n",
    "print(test.shape)"
   ]
  },
  {
   "cell_type": "code",
   "execution_count": 8,
   "id": "adopted-pointer",
   "metadata": {
    "execution": {
     "iopub.execute_input": "2021-06-25T02:06:42.183567Z",
     "iopub.status.busy": "2021-06-25T02:06:42.182892Z",
     "iopub.status.idle": "2021-06-25T02:06:42.185746Z",
     "shell.execute_reply": "2021-06-25T02:06:42.185291Z",
     "shell.execute_reply.started": "2021-06-25T01:55:30.636933Z"
    },
    "papermill": {
     "duration": 0.021596,
     "end_time": "2021-06-25T02:06:42.185844",
     "exception": false,
     "start_time": "2021-06-25T02:06:42.164248",
     "status": "completed"
    },
    "tags": []
   },
   "outputs": [],
   "source": [
    "## Data\n",
    "class TabularData(Dataset):\n",
    "    def __init__(self, features, targets):\n",
    "        self.features = features\n",
    "        self.targets = targets\n",
    "   \n",
    "    def __getitem__(self, idx):\n",
    "        return self.features[idx], self.targets[idx]\n",
    "    \n",
    "    def __len__(self):\n",
    "        return len(self.features)"
   ]
  },
  {
   "cell_type": "code",
   "execution_count": 9,
   "id": "bottom-eagle",
   "metadata": {
    "execution": {
     "iopub.execute_input": "2021-06-25T02:06:42.222686Z",
     "iopub.status.busy": "2021-06-25T02:06:42.222004Z",
     "iopub.status.idle": "2021-06-25T02:06:42.226241Z",
     "shell.execute_reply": "2021-06-25T02:06:42.226672Z",
     "shell.execute_reply.started": "2021-06-25T01:55:30.644271Z"
    },
    "papermill": {
     "duration": 0.026817,
     "end_time": "2021-06-25T02:06:42.226784",
     "exception": false,
     "start_time": "2021-06-25T02:06:42.199967",
     "status": "completed"
    },
    "tags": []
   },
   "outputs": [],
   "source": [
    "batch_size = 64\n",
    "learning_rate = 0.001\n",
    "input_size = X_train.shape[1]\n",
    "output_size = train.target.nunique()"
   ]
  },
  {
   "cell_type": "code",
   "execution_count": 10,
   "id": "realistic-senior",
   "metadata": {
    "execution": {
     "iopub.execute_input": "2021-06-25T02:06:42.266538Z",
     "iopub.status.busy": "2021-06-25T02:06:42.265716Z",
     "iopub.status.idle": "2021-06-25T02:06:42.270999Z",
     "shell.execute_reply": "2021-06-25T02:06:42.271531Z",
     "shell.execute_reply.started": "2021-06-25T01:55:30.662495Z"
    },
    "papermill": {
     "duration": 0.030865,
     "end_time": "2021-06-25T02:06:42.271689",
     "exception": false,
     "start_time": "2021-06-25T02:06:42.240824",
     "status": "completed"
    },
    "tags": []
   },
   "outputs": [
    {
     "name": "stdout",
     "output_type": "stream",
     "text": [
      "1250 20000\n"
     ]
    }
   ],
   "source": [
    "## Dataset and dataloader\n",
    "train_dataset = TabularData(torch.from_numpy(X_train).float(), torch.from_numpy(y_train))\n",
    "valid_dataset = TabularData(torch.from_numpy(X_valid).float(), torch.from_numpy(y_valid))\n",
    "\n",
    "train_loader = DataLoader(dataset=train_dataset, batch_size=batch_size, shuffle=True)\n",
    "valid_loader = DataLoader(dataset=valid_dataset, batch_size=1)\n",
    "print(len(train_loader), len(valid_loader))"
   ]
  },
  {
   "cell_type": "code",
   "execution_count": 11,
   "id": "industrial-nutrition",
   "metadata": {
    "execution": {
     "iopub.execute_input": "2021-06-25T02:06:42.305856Z",
     "iopub.status.busy": "2021-06-25T02:06:42.305377Z",
     "iopub.status.idle": "2021-06-25T02:06:42.309031Z",
     "shell.execute_reply": "2021-06-25T02:06:42.308630Z",
     "shell.execute_reply.started": "2021-06-25T01:55:30.680945Z"
    },
    "papermill": {
     "duration": 0.022281,
     "end_time": "2021-06-25T02:06:42.309125",
     "exception": false,
     "start_time": "2021-06-25T02:06:42.286844",
     "status": "completed"
    },
    "tags": []
   },
   "outputs": [],
   "source": [
    "## Data\n",
    "class TabularData(Dataset):\n",
    "    def __init__(self, features, targets):\n",
    "        self.features = features\n",
    "        self.targets = targets\n",
    "   \n",
    "    def __getitem__(self, idx):\n",
    "        return self.features[idx], self.targets[idx]\n",
    "    \n",
    "    def __len__(self):\n",
    "        return len(self.features)"
   ]
  },
  {
   "cell_type": "code",
   "execution_count": 12,
   "id": "median-fellowship",
   "metadata": {
    "execution": {
     "iopub.execute_input": "2021-06-25T02:06:42.341648Z",
     "iopub.status.busy": "2021-06-25T02:06:42.340430Z",
     "iopub.status.idle": "2021-06-25T02:06:42.343148Z",
     "shell.execute_reply": "2021-06-25T02:06:42.342749Z",
     "shell.execute_reply.started": "2021-06-25T01:55:30.688801Z"
    },
    "papermill": {
     "duration": 0.01981,
     "end_time": "2021-06-25T02:06:42.343262",
     "exception": false,
     "start_time": "2021-06-25T02:06:42.323452",
     "status": "completed"
    },
    "tags": []
   },
   "outputs": [],
   "source": [
    "#test_dataset = TabularData(torch.from_numpy(test).float)\n",
    "#test_loader = DataLoader(dataset=test_loader)"
   ]
  },
  {
   "cell_type": "code",
   "execution_count": 13,
   "id": "black-truth",
   "metadata": {
    "execution": {
     "iopub.execute_input": "2021-06-25T02:06:42.378223Z",
     "iopub.status.busy": "2021-06-25T02:06:42.377705Z",
     "iopub.status.idle": "2021-06-25T02:06:42.381427Z",
     "shell.execute_reply": "2021-06-25T02:06:42.381005Z",
     "shell.execute_reply.started": "2021-06-25T01:55:30.696241Z"
    },
    "papermill": {
     "duration": 0.023695,
     "end_time": "2021-06-25T02:06:42.381524",
     "exception": false,
     "start_time": "2021-06-25T02:06:42.357829",
     "status": "completed"
    },
    "tags": []
   },
   "outputs": [],
   "source": [
    "## Model\n",
    "def linear_block(input_size, output_size):\n",
    "    return torch.nn.Sequential(\n",
    "        nn.Linear(input_size, output_size),\n",
    "        nn.ReLU(),\n",
    "        nn.Dropout(0.2)\n",
    "    )\n",
    "\n",
    "class network(nn.Module):\n",
    "    def __init__(self, input_size, output_size):\n",
    "        super().__init__()\n",
    "        self.layers = nn.Sequential(\n",
    "            linear_block(input_size, 512),\n",
    "            linear_block(512, 256),\n",
    "            linear_block(256, 128),\n",
    "            linear_block(128, 64),\n",
    "            linear_block(64, 16),\n",
    "            linear_block(16, output_size),\n",
    "        )\n",
    "        \n",
    "    def forward(self, x):\n",
    "        return self.layers(x)"
   ]
  },
  {
   "cell_type": "code",
   "execution_count": 14,
   "id": "representative-turner",
   "metadata": {
    "execution": {
     "iopub.execute_input": "2021-06-25T02:06:42.418292Z",
     "iopub.status.busy": "2021-06-25T02:06:42.417761Z",
     "iopub.status.idle": "2021-06-25T02:06:42.508369Z",
     "shell.execute_reply": "2021-06-25T02:06:42.508785Z",
     "shell.execute_reply.started": "2021-06-25T01:55:30.707395Z"
    },
    "papermill": {
     "duration": 0.112976,
     "end_time": "2021-06-25T02:06:42.508918",
     "exception": false,
     "start_time": "2021-06-25T02:06:42.395942",
     "status": "completed"
    },
    "tags": []
   },
   "outputs": [
    {
     "name": "stdout",
     "output_type": "stream",
     "text": [
      "network(\n",
      "  (layers): Sequential(\n",
      "    (0): Sequential(\n",
      "      (0): Linear(in_features=50, out_features=512, bias=True)\n",
      "      (1): ReLU()\n",
      "      (2): Dropout(p=0.2, inplace=False)\n",
      "    )\n",
      "    (1): Sequential(\n",
      "      (0): Linear(in_features=512, out_features=256, bias=True)\n",
      "      (1): ReLU()\n",
      "      (2): Dropout(p=0.2, inplace=False)\n",
      "    )\n",
      "    (2): Sequential(\n",
      "      (0): Linear(in_features=256, out_features=128, bias=True)\n",
      "      (1): ReLU()\n",
      "      (2): Dropout(p=0.2, inplace=False)\n",
      "    )\n",
      "    (3): Sequential(\n",
      "      (0): Linear(in_features=128, out_features=64, bias=True)\n",
      "      (1): ReLU()\n",
      "      (2): Dropout(p=0.2, inplace=False)\n",
      "    )\n",
      "    (4): Sequential(\n",
      "      (0): Linear(in_features=64, out_features=16, bias=True)\n",
      "      (1): ReLU()\n",
      "      (2): Dropout(p=0.2, inplace=False)\n",
      "    )\n",
      "    (5): Sequential(\n",
      "      (0): Linear(in_features=16, out_features=4, bias=True)\n",
      "      (1): ReLU()\n",
      "      (2): Dropout(p=0.2, inplace=False)\n",
      "    )\n",
      "  )\n",
      ")\n",
      "torch.Size([64, 4])\n"
     ]
    }
   ],
   "source": [
    "model = network(input_size, output_size)\n",
    "print(model)\n",
    "for X, y in train_loader:\n",
    "    preds = model(X)\n",
    "    print(preds.size())\n",
    "    break"
   ]
  },
  {
   "cell_type": "code",
   "execution_count": 15,
   "id": "earlier-finland",
   "metadata": {
    "execution": {
     "iopub.execute_input": "2021-06-25T02:06:42.548305Z",
     "iopub.status.busy": "2021-06-25T02:06:42.547513Z",
     "iopub.status.idle": "2021-06-25T02:06:42.551786Z",
     "shell.execute_reply": "2021-06-25T02:06:42.551396Z",
     "shell.execute_reply.started": "2021-06-25T01:55:30.810418Z"
    },
    "papermill": {
     "duration": 0.027583,
     "end_time": "2021-06-25T02:06:42.551901",
     "exception": false,
     "start_time": "2021-06-25T02:06:42.524318",
     "status": "completed"
    },
    "tags": []
   },
   "outputs": [],
   "source": [
    "## Training\n",
    "def trainer(model, criterion, optimizer, trainloader, validloader, epochs=5, verbose=True, patience=5):\n",
    "    train_loss = []\n",
    "    valid_loss = []\n",
    " \n",
    "    \n",
    "    for epoch in range(epochs):\n",
    "        train_batch_loss = 0\n",
    "        valid_batch_loss = 0\n",
    "        \n",
    "        # training\n",
    "        for X, y in trainloader:\n",
    "            optimizer.zero_grad()\n",
    "            y_pred = model(X)\n",
    "            loss = criterion(y_pred, y)\n",
    "            loss.backward()\n",
    "            optimizer.step()\n",
    "            train_batch_loss += loss.item()\n",
    "        train_loss.append(train_batch_loss / len(trainloader))\n",
    "       \n",
    "        \n",
    "        # validation\n",
    "        model.eval()\n",
    "        with torch.no_grad():\n",
    "            for X, y in validloader:\n",
    "                y_pred = model(X)\n",
    "                loss = criterion(y_pred, y)\n",
    "                valid_batch_loss += loss.item()\n",
    "            valid_loss.append(valid_batch_loss / len(validloader))\n",
    "        model.train()\n",
    "            \n",
    "        # early stopping\n",
    "        if epoch > 0 and valid_loss[-1] > valid_loss[-2]:\n",
    "            consec_increases += 1\n",
    "        else:\n",
    "            consec_increases = 0\n",
    "        if consec_increases == patience:\n",
    "            print(f\"Early stopping at epoch {epoch+1} - valid loss increased for {consec_increases} epochs consecutively\")\n",
    "            break\n",
    "        clr = optimizer.param_groups[0]['lr'] \n",
    "        scheduler.step(valid_batch_loss / len(validloader))\n",
    "        # print resuls\n",
    "        if verbose:\n",
    "            print(f\"Epoch {epoch} - \",\n",
    "                 f\"Train loss {train_loss[-1]:.4f}\",\n",
    "                 f\"Valid loss {valid_loss[-1]:.4f}\",\n",
    "                 f\"LR: {clr:.4f}\")\n",
    "            \n",
    "    return {\n",
    "        \"train_loss\": train_loss,\n",
    "        \"valid_loss\": valid_loss,\n",
    "    }"
   ]
  },
  {
   "cell_type": "code",
   "execution_count": 16,
   "id": "swedish-guinea",
   "metadata": {
    "execution": {
     "iopub.execute_input": "2021-06-25T02:06:42.587314Z",
     "iopub.status.busy": "2021-06-25T02:06:42.586544Z",
     "iopub.status.idle": "2021-06-25T02:09:41.326432Z",
     "shell.execute_reply": "2021-06-25T02:09:41.326850Z",
     "shell.execute_reply.started": "2021-06-25T01:55:30.822779Z"
    },
    "papermill": {
     "duration": 178.75944,
     "end_time": "2021-06-25T02:09:41.327001",
     "exception": false,
     "start_time": "2021-06-25T02:06:42.567561",
     "status": "completed"
    },
    "tags": []
   },
   "outputs": [
    {
     "name": "stdout",
     "output_type": "stream",
     "text": [
      "Epoch 0 -  Train loss 1.2007 Valid loss 1.1596 LR: 0.0100\n",
      "Epoch 1 -  Train loss 1.2035 Valid loss 1.1586 LR: 0.0100\n",
      "Epoch 2 -  Train loss 1.1960 Valid loss 1.1592 LR: 0.0100\n",
      "Epoch 3 -  Train loss 1.1976 Valid loss 1.1550 LR: 0.0100\n",
      "Epoch 4 -  Train loss 1.1962 Valid loss 1.1579 LR: 0.0100\n",
      "Epoch 5 -  Train loss 1.1979 Valid loss 1.1592 LR: 0.0100\n",
      "Epoch 6 -  Train loss 1.1962 Valid loss 1.1600 LR: 0.0100\n",
      "Epoch 7 -  Train loss 1.1964 Valid loss 1.1564 LR: 0.0100\n",
      "Epoch 8 -  Train loss 1.1987 Valid loss 1.1599 LR: 0.0100\n",
      "Epoch 9 -  Train loss 1.1966 Valid loss 1.1589 LR: 0.0100\n"
     ]
    }
   ],
   "source": [
    "model = network(input_size, output_size)\n",
    "criterion = nn.CrossEntropyLoss()\n",
    "optimizer = torch.optim.Adam(model.parameters(), lr=0.01)\n",
    "scheduler = ReduceLROnPlateau(optimizer, 'min')\n",
    "losses = trainer(model, criterion, optimizer, train_loader, valid_loader, epochs=10)\n",
    "torch.save(model.state_dict(), 'model_epochs=10.pkl')"
   ]
  },
  {
   "cell_type": "code",
   "execution_count": 17,
   "id": "rotary-socket",
   "metadata": {
    "execution": {
     "iopub.execute_input": "2021-06-25T02:09:41.379480Z",
     "iopub.status.busy": "2021-06-25T02:09:41.373322Z",
     "iopub.status.idle": "2021-06-25T02:09:41.549622Z",
     "shell.execute_reply": "2021-06-25T02:09:41.548853Z",
     "shell.execute_reply.started": "2021-06-25T01:58:31.853754Z"
    },
    "papermill": {
     "duration": 0.205166,
     "end_time": "2021-06-25T02:09:41.549749",
     "exception": false,
     "start_time": "2021-06-25T02:09:41.344583",
     "status": "completed"
    },
    "tags": []
   },
   "outputs": [
    {
     "data": {
      "image/png": "[encoded data removed]",
      "text/plain": [
       "<Figure size 432x288 with 1 Axes>"
      ]
     },
     "metadata": {
      "needs_background": "light"
     },
     "output_type": "display_data"
    }
   ],
   "source": [
    "# check losses\n",
    "plt.xlabel('epoch')\n",
    "plt.ylabel('loss')\n",
    "plt.plot(losses['train_loss'])\n",
    "plt.plot(losses['valid_loss'])\n",
    "plt.savefig(\"model_epochs=10.png\")\n",
    "plt.legend(labels=['train loss', 'val loss']);"
   ]
  },
  {
   "cell_type": "code",
   "execution_count": 18,
   "id": "altered-partition",
   "metadata": {
    "execution": {
     "iopub.execute_input": "2021-06-25T02:09:41.591957Z",
     "iopub.status.busy": "2021-06-25T02:09:41.591131Z",
     "iopub.status.idle": "2021-06-25T02:09:41.616502Z",
     "shell.execute_reply": "2021-06-25T02:09:41.616876Z"
    },
    "papermill": {
     "duration": 0.049053,
     "end_time": "2021-06-25T02:09:41.617010",
     "exception": false,
     "start_time": "2021-06-25T02:09:41.567957",
     "status": "completed"
    },
    "tags": []
   },
   "outputs": [],
   "source": [
    "submission = pd.read_csv('../input/tabular-playground-series-may-2021/sample_submission.csv')"
   ]
  }
 ],
 "metadata": {
  "kernelspec": {
   "display_name": "Python 3",
   "language": "python",
   "name": "python3"
  },
  "language_info": {
   "codemirror_mode": {
    "name": "ipython",
    "version": 3
   },
   "file_extension": ".py",
   "mimetype": "text/x-python",
   "name": "python",
   "nbconvert_exporter": "python",
   "pygments_lexer": "ipython3",
   "version": "3.7.10"
  },
  "papermill": {
   "default_parameters": {},
   "duration": 191.734665,
   "end_time": "2021-06-25T02:09:43.626904",
   "environment_variables": {},
   "exception": null,
   "input_path": "__notebook__.ipynb",
   "output_path": "__notebook__.ipynb",
   "parameters": {},
   "start_time": "2021-06-25T02:06:31.892239",
   "version": "2.3.3"
  }
 },
 "nbformat": 4,
 "nbformat_minor": 5
}
